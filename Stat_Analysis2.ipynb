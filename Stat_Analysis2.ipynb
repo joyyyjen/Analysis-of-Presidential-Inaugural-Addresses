{
 "cells": [
  {
   "cell_type": "markdown",
   "metadata": {},
   "source": [
    "# Problem 1"
   ]
  },
  {
   "cell_type": "markdown",
   "metadata": {},
   "source": [
    "#### 1) How to choose an appropriate corpus? <br> \n",
    "(Hint: focus on corpus design principles)"
   ]
  },
  {
   "cell_type": "markdown",
   "metadata": {},
   "source": [
    "   To choose an appropriate corpus, we first look at the corpus design, especially its sample, synchronic, subcorpora (genre), and etc. From corpus design, we can see whether if it’s balanced and representative enough for our topic of concentration. \n",
    "   Given that this corpus will be used for English as Second Language (ESL), some corpus design features are considered as below:\n",
    "1. Sample: <br>\n",
    "We would like to have a corpus composed of large enough but finite-size of text samples. Depends on the learns’ ESL level, the sample size might differ. For instance, if the learner is taking elementary school’s English class, instead of 100 million words corpus, 1 million words corpus might be enough. On the other hand, if the learning is taking a college-level English class, the 100 million words corpus would be suitable.\n",
    "2. Synchronic: <br>\n",
    "To know the year that a corpus cover is also essential; we would not use text from 16s to teach elementary ESL learner. Some ideal synchronic range for English learning can be from the 1960s to late 20th century.  \n",
    "3. Subcorpora: <br>\n",
    "A corpus for ESL learner should be general to life, education, science and etc. It’s possible that he or she would read anything from news, fiction, magazine, newspaper, and academic writing, and more. \n"
   ]
  },
  {
   "cell_type": "markdown",
   "metadata": {},
   "source": [
    "#### 2) What linguistic features do you think are important to use for ESL learners? How would you build your concordancer to search and find such features? <br>\n",
    "(Hint: focus on identifying recurring grammatical features and word\n",
    "derivations/inflections and on learning how to induce generalizations from the\n",
    "samples to the language in general. Give specific examples.)"
   ]
  },
  {
   "attachments": {},
   "cell_type": "markdown",
   "metadata": {},
   "source": [
    "I think the linguistic features that are important to use for ESL learners are inflections, word derivations. As a Chinese Mandarin Speaker, we don’t have infections. I would build the concordancer that shows all the inflections of a verb.<br>\n",
    "\n",
    "The main window will be the keywords I search, and I can go to the next page to see other infections and its content. If there is a maker, we can even tell the concordance to highlight the morpheme difference in addition to the word follows it.<br>\n",
    "\n",
    "Thus, if I type citizen, there would be concordance for both citizen and citizens. In this way, an ESL learner can more easily learn how a word inflects.<br>\n",
    "\n",
    "And word derivations can also be done similarly. For example, if I type nation, both nation and national appear on two different windows or page. Then I can do a comparison, so I know \"national\" is likely to be followed by nouns, and \"nation\" will be followed by a verb. In addition, if the corpus has part of speech marking, I can search in POS to see whether it match the center linguistics feature’s generation or not. "
   ]
  },
  {
   "cell_type": "markdown",
   "metadata": {},
   "source": [
    "# Problem 2 - Part 1"
   ]
  },
  {
   "cell_type": "markdown",
   "metadata": {},
   "source": [
    "## a. Text Length"
   ]
  },
  {
   "cell_type": "code",
   "execution_count": 256,
   "metadata": {},
   "outputs": [],
   "source": [
    "from nltk import word_tokenize\n",
    "#nltk.download('punkt')\n",
    "import string\n",
    "trans =  str.maketrans('','', string.punctuation)\n",
    "trans2 = str.maketrans('� ',\", \")\n",
    "trans3 = str.maketrans('�',\"'\")"
   ]
  },
  {
   "cell_type": "code",
   "execution_count": 349,
   "metadata": {},
   "outputs": [],
   "source": [
    "def toClearToken(doc_txt):\n",
    "    doc_d = open(doc_txt)\n",
    "    doc_read = doc_d.read()\n",
    "    doc_strings = doc_read.translate(trans2)\n",
    "    doc_strings = doc_read.translate(trans3)\n",
    "    doc_strings = doc_strings.translate(trans).lower()\n",
    "    doc_words = word_tokenize(doc_strings)\n",
    "    doc_d.close()\n",
    "    return (doc_read,doc_words)"
   ]
  },
  {
   "cell_type": "code",
   "execution_count": 350,
   "metadata": {},
   "outputs": [
    {
     "name": "stdout",
     "output_type": "stream",
     "text": [
      "Bush's speech length: 1591\n",
      "Obama's speech length: 2396\n",
      "Trump's speech length: 1433\n",
      "Washington's speech length: 1430\n"
     ]
    }
   ],
   "source": [
    "bush_r, bush_words = toClearToken(\"Bush.txt\")\n",
    "obama_r, obama_words = toClearToken(\"Obama.txt\")\n",
    "trump_r, trump_words = toClearToken(\"Trump.txt\")\n",
    "wash_r, wash_words = toClearToken(\"Washington.txt\")\n",
    "#lin_r, lin_words = toClearToken(\"lin.txt\")\n",
    "#tt_r, tt_words = toClearToken(\"test.txt\")\n",
    "print(\"Bush's speech length:\", len(bush_words))\n",
    "print(\"Obama's speech length:\", len(obama_words))\n",
    "print(\"Trump's speech length:\", len(trump_words))\n",
    "print(\"Washington's speech length:\", len(wash_words))\n",
    "#print(\"lin's speech length:\", len(lin_words))\n",
    "#print(\"lin's speech length:\", len(tt_words))"
   ]
  },
  {
   "cell_type": "markdown",
   "metadata": {},
   "source": [
    "#### a) How long are the speeches? Whose speech is longer? \n",
    "After replaced symbol like \"�\", and removed the punctuations marks, the speech lengths for these president are shown above. As we can see, Obama's speech is longer. "
   ]
  },
  {
   "cell_type": "markdown",
   "metadata": {},
   "source": [
    "## b. Vocabulary Diversity"
   ]
  },
  {
   "cell_type": "code",
   "execution_count": 259,
   "metadata": {},
   "outputs": [],
   "source": [
    "def TTR(words):\n",
    "    token_len = len(words)\n",
    "    type_len = len(set(words))\n",
    "    ttr = type_len / token_len\n",
    "    return ttr"
   ]
  },
  {
   "cell_type": "code",
   "execution_count": 260,
   "metadata": {},
   "outputs": [
    {
     "name": "stdout",
     "output_type": "stream",
     "text": [
      "Bush's Vocab Diversity: 0.37\n",
      "Trump's Vocab Diversity: 0.38\n",
      "Obama's Vocab Diversity: 0.37\n",
      "Washington's Vocab Diversity: 0.42\n"
     ]
    }
   ],
   "source": [
    "ttr_b = round(TTR(bush_words),2)\n",
    "ttr_o = round(TTR(obama_words),2)\n",
    "ttr_t = round(TTR(trump_words),2)\n",
    "ttr_w = round(TTR(wash_words),2)\n",
    "print(\"Bush's Vocab Diversity:\",ttr_b)\n",
    "print(\"Trump's Vocab Diversity:\",ttr_t)\n",
    "print(\"Obama's Vocab Diversity:\",ttr_o)\n",
    "print(\"Washington's Vocab Diversity:\",ttr_w)\n"
   ]
  },
  {
   "cell_type": "markdown",
   "metadata": {},
   "source": [
    "#### b)  Whose speech has more diverse vocabulary? Recall that vocabulary diversity can\n",
    "be represented by TTR (Type-Token Ratio).\n",
    "Without stemming, the type-token ratios of those speeches are shown above. Thus, Washington's speech has more diverse vocabulary."
   ]
  },
  {
   "cell_type": "markdown",
   "metadata": {},
   "source": [
    "## c. Sentence length:"
   ]
  },
  {
   "cell_type": "code",
   "execution_count": 290,
   "metadata": {},
   "outputs": [],
   "source": [
    "from nltk import sent_tokenize\n",
    "\n",
    "def sent_count(doc_reader):\n",
    "    sents = sent_tokenize(doc_reader)\n",
    "    sumw= 0\n",
    "    for sent in sents:\n",
    "        words = word_tokenize(sent)\n",
    "        sumw = sumw + len(words)\n",
    "    avg_len = int( sumw / len(sents))\n",
    "    return (len(sents),avg_len)\n",
    "    "
   ]
  },
  {
   "cell_type": "code",
   "execution_count": 291,
   "metadata": {},
   "outputs": [
    {
     "name": "stdout",
     "output_type": "stream",
     "text": [
      "Bush's num of sentences: 99 Average length: 18\n",
      "Obama's num of sentences: 110 Average length: 24\n",
      "Trump's num of sentences: 86 Average length: 19\n",
      "Washington's num of sentences: 23 Average length: 66\n"
     ]
    }
   ],
   "source": [
    "bush_sent, bu_avg_len = sent_count(bush_r)\n",
    "obama_sent, ob_avg_len = sent_count(obama_r)\n",
    "trump_sent, tr_avg_len = sent_count(trump_r)\n",
    "wash_sent, wa_avg_len = sent_count(wash_r)\n",
    "print(\"Bush's num of sentences:\", bush_sent, \"Average length:\",bu_avg_len)\n",
    "print(\"Obama's num of sentences:\", obama_sent, \"Average length:\",ob_avg_len)\n",
    "print(\"Trump's num of sentences:\", trump_sent, \"Average length:\", tr_avg_len)\n",
    "print(\"Washington's num of sentences:\", wash_sent,\"Average length:\",wa_avg_len)"
   ]
  },
  {
   "cell_type": "markdown",
   "metadata": {},
   "source": [
    "#### c) Who uses longer sentences? Compute both the sentence count and the average sentence length. \n",
    "Both the sentence count and the average sentence length are shown above. And Washington uses longer's sentence."
   ]
  },
  {
   "cell_type": "markdown",
   "metadata": {},
   "source": [
    "## d. Word Length:\n"
   ]
  },
  {
   "cell_type": "code",
   "execution_count": 301,
   "metadata": {},
   "outputs": [],
   "source": [
    "def WordLength(Who,words):\n",
    "    sumww = 0\n",
    "    for word in words:\n",
    "        sumww = sumww + len(word)\n",
    "    avg = sumww / len(words)\n",
    "    avg = round(avg,2)\n",
    "\n",
    "    print(Who,\"avg word length is\",avg)\n",
    "    #return avg"
   ]
  },
  {
   "cell_type": "code",
   "execution_count": 302,
   "metadata": {},
   "outputs": [
    {
     "name": "stdout",
     "output_type": "stream",
     "text": [
      "Bush avg word length is 4.53\n",
      "Obama avg word length is 4.44\n",
      "Trump avg word length is 4.63\n",
      "Washington avg word length is 4.95\n"
     ]
    }
   ],
   "source": [
    "WordLength(\"Bush\",bush_words)\n",
    "WordLength(\"Obama\",obama_words)\n",
    "WordLength(\"Trump\",trump_words)\n",
    "WordLength(\"Washington\",wash_words)"
   ]
  },
  {
   "cell_type": "markdown",
   "metadata": {},
   "source": [
    "#### d) Who uses longer words?\n",
    "Given the aboved average word lengthes, we can see that Washington use longer words."
   ]
  },
  {
   "cell_type": "markdown",
   "metadata": {},
   "source": [
    "## e) Top 20 words:"
   ]
  },
  {
   "cell_type": "code",
   "execution_count": 374,
   "metadata": {},
   "outputs": [],
   "source": [
    "from collections import Counter\n",
    "def freq_20(who,words):\n",
    "    w_20 = Counter(words).most_common(20)\n",
    "    print(who,\"20 most frequent words:\",w_20)\n",
    "    print()"
   ]
  },
  {
   "cell_type": "code",
   "execution_count": 375,
   "metadata": {},
   "outputs": [
    {
     "name": "stdout",
     "output_type": "stream",
     "text": [
      "Bush 20 most frequent words: [('and', 82), ('of', 58), ('the', 53), ('our', 50), ('we', 47), ('a', 45), ('to', 44), ('is', 31), ('in', 30), ('not', 27), ('will', 23), ('are', 20), ('that', 18), ('it', 16), ('this', 13), ('for', 12), ('but', 12), ('i', 11), ('us', 11), ('by', 11)]\n",
      "\n",
      "Obama 20 most frequent words: [('the', 135), ('and', 111), ('of', 82), ('to', 70), ('our', 67), ('we', 62), ('that', 49), ('a', 47), ('is', 36), ('in', 25), ('this', 24), ('us', 23), ('for', 23), ('not', 22), ('are', 22), ('but', 20), ('it', 19), ('will', 19), ('can', 19), ('on', 17)]\n",
      "\n",
      "Trump 20 most frequent words: [('and', 74), ('the', 70), ('of', 48), ('our', 48), ('we', 46), ('will', 40), ('to', 37), ('is', 21), ('america', 17), ('a', 15), ('for', 15), ('are', 14), ('in', 14), ('you', 12), ('all', 12), ('but', 12), ('american', 12), ('be', 12), ('their', 11), ('not', 11)]\n",
      "\n",
      "Washington 20 most frequent words: [('the', 116), ('of', 71), ('and', 48), ('to', 48), ('which', 36), ('in', 31), ('i', 23), ('be', 23), ('my', 22), ('by', 20), ('that', 18), ('with', 17), ('on', 15), ('a', 14), ('as', 14), ('have', 12), ('for', 12), ('it', 11), ('an', 10), ('this', 10)]\n",
      "\n"
     ]
    }
   ],
   "source": [
    "freq_20(\"Bush\",bush_words)\n",
    "freq_20(\"Obama\",obama_words)\n",
    "freq_20(\"Trump\",trump_words)\n",
    "freq_20(\"Washington\",wash_words)"
   ]
  },
  {
   "cell_type": "markdown",
   "metadata": {},
   "source": [
    "#### e1) What are the top 20 most frequent words in each president’s speech?\n",
    "Write them out, in descending order as a pair: the word and its frequency count.\n",
    "Then compare the three word lists. What do you notice?\n",
    "Compared the three word lists, We can observe that almost all of the 20 most freqent words for all four speeches are function words. "
   ]
  },
  {
   "cell_type": "code",
   "execution_count": 376,
   "metadata": {},
   "outputs": [
    {
     "name": "stdout",
     "output_type": "stream",
     "text": [
      "Bush_20_freq_words: [('us', 11), ('country', 9), ('nation', 8), ('story', 8), ('america', 8), ('citizens', 7), ('must', 6), ('every', 6), ('president', 5), ('common', 5), ('new', 5), ('many', 5), ('freedom', 5), ('promise', 5), ('americans', 5), ('nations', 5), ('know', 5), ('never', 5), ('courage', 5), ('justice', 4)]\n",
      "\n",
      "Obama_20_freq_words: [('us', 23), ('nation', 12), ('new', 11), ('every', 8), ('america', 8), ('must', 8), ('people', 7), ('less', 7), ('let', 7), ('today', 6), ('time', 6), ('work', 6), ('common', 6), ('world', 6), ('generation', 5), ('day', 5), ('know', 5), ('spirit', 5), ('words', 4), ('peace', 4)]\n",
      "\n",
      "Trump_20_freq_words: [('america', 17), ('american', 12), ('people', 9), ('country', 9), ('one', 8), ('every', 7), ('world', 6), ('great', 6), ('back', 6), ('nation', 6), ('never', 6), ('new', 6), ('president', 5), ('nations', 5), ('protected', 5), ('across', 5), ('right', 5), ('dreams', 5), ('make', 5), ('americans', 4)]\n",
      "\n",
      "Washington_20_freq_words: [('every', 9), ('government', 8), ('public', 6), ('may', 6), ('present', 5), ('country', 5), ('one', 4), ('citizens', 4), ('ought', 4), ('duty', 4), ('people', 4), ('united', 4), ('since', 4), ('could', 3), ('hand', 3), ('nature', 3), ('happiness', 3), ('great', 3), ('good', 3), ('less', 3)]\n"
     ]
    }
   ],
   "source": [
    "from nltk.corpus import stopwords\n",
    "#nltk.download('stopwords')\n",
    "stop_words = set(stopwords.words('english'))\n",
    "\n",
    "bush_wordf = [w for w in bush_words if w not in stop_words]\n",
    "obama_wordf = [w for w in obama_words if w not in stop_words]\n",
    "trump_wordf = [w for w in trump_words if w not in stop_words]\n",
    "wash_wordf = [w for w in wash_words if w not in stop_words]\n",
    "b_c = Counter(bush_wordf).most_common(20)\n",
    "o_c = Counter(obama_wordf).most_common(20)\n",
    "t_c = Counter(trump_wordf).most_common(20)\n",
    "w_c = Counter(wash_wordf).most_common(20)\n",
    "print(\"Bush_20_freq_words:\", b_c);print()\n",
    "print(\"Obama_20_freq_words:\", o_c);print()\n",
    "print(\"Trump_20_freq_words:\", t_c); print()\n",
    "print(\"Washington_20_freq_words:\", w_c)"
   ]
  },
  {
   "cell_type": "markdown",
   "metadata": {},
   "source": [
    "#### e2) Then, if you delete the main stop words (i.e.: function words such as a, an, the, of, in, etc.) and generate the word lists again, what do you notice? What are the top 20 content words used in each speech and how do they differ from speech to speech?\n",
    "All of them use terms like \"nation\", \"american\", \"america\", and etc. For each speech, we can see that each president has his own topic. For instance, Bush talks about, \"freedom\", \"courage\", \"jutice\", \"power\", and \"ideals\". Obama use lots of \"new\". And he Also use \"peace\", \"spirit\", \"generation\". Trump otherwise uses term like \"great\", \"protected\", \"dream\". And Washington uses terms like \"duty\", \"great\", and \"government\"\n"
   ]
  },
  {
   "cell_type": "markdown",
   "metadata": {},
   "source": [
    "## f) Hapax Legomena and Words with a Frequency of at most 4:"
   ]
  },
  {
   "cell_type": "code",
   "execution_count": 332,
   "metadata": {},
   "outputs": [],
   "source": [
    "def leastFreq(who, words):\n",
    "    w_freq = list(Counter(words).most_common())\n",
    "    \n",
    "    hapax = list()\n",
    "    four = list()\n",
    "    for k in w_freq:\n",
    "        if k[1] == 1: hapax.append(k[0])\n",
    "        if k[1] <= 4: four.append((k[0],k[1]))\n",
    "    sum4 = sum([j[1] for j in four])\n",
    "    #print(len(four),sum4)\n",
    "    return (hapax,four,sum4)\n"
   ]
  },
  {
   "cell_type": "code",
   "execution_count": 377,
   "metadata": {},
   "outputs": [
    {
     "name": "stdout",
     "output_type": "stream",
     "text": [
      "Bush's Hapax Legomena: ['chief', 'rehnquist', 'carter', 'bush', 'distinguished', 'guests', 'fellow', 'peaceful', 'transfer', 'authority', 'rare', 'oath', 'traditions', 'beginnings', 'begin', 'vice', 'gore', 'contest', 'conducted', 'ended', 'grace', 'am', 'humbled', 'here', 'come', 'me', 'continue', 'whose', 'end', 'friend', 'liberator', 'thestory', 'slaveholding', 'servant', 'went', 'into', 'protect', 'possess', 'conquer', 'flawed', 'fallible', 'people', 'across', 'enduring', 'grandest', 'unfolding', 'belongs', 'deserves', 'chance', 'insignificant', 'person', 'ever', 'born', 'enact', 'halted', 'delayed', 'course', 'last', 'rock', 'raging', 'sea', 'seed', 'upon', 'wind', 'taking', 'root', 'democratic', 'creed', 'inborn', 'ideal', 'carry', 'bear', 'along', 'nearly', '225', 'travel', 'while', 'prosper', 'others', 'doubt', 'ambitions', 'limited', 'failing', 'hidden', 'prejudice', 'circumstances', 'differences', 'run', 'seems', 'continent', 'accept', 'allow', 'unity', 'union', 'serious', 'generation', 'solemn', 'single', 'opportunity', 'within', 'reach', 'guided', 'larger', 'creates', 'equal', 'image', 'confident', 'unite', 'onward', 'blood', 'soil', 'bound', 'move', 'backgrounds', 'lift', 'above', 'teach', 'means', 'child', 'taught', 'citizen', 'uphold', 'immigrant', 'embracing', 'makes', 'less', 'out', 'matches', 'principle', 'concern', 'demands', 'each', 'respect', 'fair', 'dealing', 'forgiveness', 'seem', 'politics', 'afford', 'petty', 'peace', 'debates', 'appear', 'led', 'turn', 'hearts', 'toward', 'knowledge', 'lose', 'gifts', 'undermine', 'idealism', 'permit', 'drift', 'decline', 'vulnerable', 'suffer', 'up', 'calling', 'tactic', 'sentiment', 'determined', 'cynicism', 'chaos', 'keep', 'shared', 'accomplishment', 'also', 'courageous', 'national', 'clear', 'depression', 'war', 'defeating', 'dangers', 'defined', 'choose', 'example', 'fathers', 'mothers', 'inspire', 'condemn', 'blessing', 'confronting', 'instead', 'passing', 'onto', 'future', 'together', 'reclaim', 'ignorance', 'apathy', 'claim', 'young', 'reform', 'social', 'security', 'medicare', 'sparing', 'struggles', 'prevent', 'reduce', 'taxes', 'recover', 'momentum', 'reward', 'efforts', 'enterprise', 'working', 'defenses', 'lest', 'weakness', 'invite', 'confront', 'weapons', 'mass', 'destruction', 'spared', 'horrors', 'enemies', 'liberty', 'should', 'mistake', 'remains', 'engaged', 'shaping', 'balance', 'favors', 'allies', 'without', 'arrogance', 'meet', 'aggression', 'bad', 'resolve', 'strength', 'gave', 'compassionate', 'quiet', 'persistent', 'unworthy', 'whatever', 'views', 'agree', 'risk', 'fault', 'abandonment', 'abuse', 'failures', 'proliferation', 'prisons', 'however', 'necessary', 'substitute', 'order', 'souls', 'suffering', 'need', 'strangers', 'priorities', 'diminished', 'any', 'hopeless', 'responsibilities', 'safety', 'health', 'rights', 'needs', 'hurts', 'respond', 'mentors', 'touch', 'pastors', 'prayer', 'church', 'charity', 'synagogue', 'mosque', 'lend', 'plans', 'pain', 'listen', 'those', 'goal', 'wounded', 'traveler', 'road', 'jericho', 'side', 'personal', 'valued', 'expected', 'encouraging', 'search', 'scapegoats', 'requires', 'sacrifice', 'brings', 'deeper', 'fulfillment', 'fullness', 'options', 'set', 'free', 'depends', 'private', 'civic', 'family', 'bonds', 'basic', 'fairness', 'uncounted', 'unhonored', 'decency', 'which', 'give', 'direction', 'saint', 'said', 'tasks', 'done', 'advance', 'convictions', 'pursue', 'greater', 'try', 'well', 'ways', 'bring', 'care', 'anything', 'seek', 'comfort', 'needed', 'reforms', 'easy', 'attacks', 'serve', 'beginning', 'neighbor', 'citizenscitizens', 'spectators', 'subjects', 'responsible', 'building', 'decent', 'hold', 'beliefs', 'citizenship', 'missing', 'program', 'replace', 'present', 'wrong', 'declaration', 'independence', 'signed', 'virginia', 'statesman', 'john', 'page', 'wrote', 'thomas', 'race', 'swift', 'nor', 'battle', 'think', 'passed', 'since', 'arrived', 'inauguration', 'changes', 'accumulate', 'themes', 'he', 'would', 'dream', 'storys', 'author', 'fills', 'eternity', 'achieved', 'fulfilled', 'one', 'another', 'tiring', 'yielding', 'finishing', 'renew', 'continues', 'goes', 'still']\n",
      "Bush's Words with a Frequency of at most 4: [('justice', 4), ('yet', 4), ('power', 4), ('american', 4), ('ideals', 4), ('sometimes', 4), ('more', 4), ('their', 4), ('work', 4), ('because', 4), ('beyond', 4), ('live', 4), ('civility', 4), ('character', 4), ('best', 4), ('time', 4), ('children', 4), ('purpose', 4), ('they', 4), ('duty', 4), ('government', 4), ('public', 4), ('thank', 3), ('my', 3), ('history', 3), ('affirm', 3), ('make', 3), ('service', 3), ('spirit', 3), ('where', 3), ('americas', 3), ('place', 3), ('world', 3), ('defend', 3), ('everyone', 3), ('was', 3), ('called', 3), ('lives', 3), ('faith', 3), ('some', 3), ('schools', 3), ('birth', 3), ('deep', 3), ('ourselves', 3), ('who', 3), ('principles', 3), ('lead', 3), ('commitment', 3), ('compassion', 3), ('good', 3), ('small', 3), ('times', 3), ('god', 3), ('great', 3), ('responsibility', 3), ('life', 3), ('your', 3), ('clinton', 2), ('simple', 2), ('old', 2), ('honored', 2), ('stand', 2), ('leaders', 2), ('before', 2), ('follow', 2), ('long', 2), ('see', 2), ('became', 2), ('society', 2), ('united', 2), ('generations', 2), ('grand', 2), ('laws', 2), ('though', 2), ('other', 2), ('through', 2), ('much', 2), ('century', 2), ('democracy', 2), ('now', 2), ('than', 2), ('hope', 2), ('humanity', 2), ('own', 2), ('trust', 2), ('pass', 2), ('even', 2), ('after', 2), ('years', 2), ('way', 2), ('share', 2), ('pledge', 2), ('build', 2), ('been', 2), ('interests', 2), ('what', 2), ('them', 2), ('today', 2), ('civil', 2), ('from', 2), ('believe', 2), ('stakes', 2), ('does', 2), ('cause', 2), ('economy', 2), ('most', 2), ('choice', 2), ('over', 2), ('community', 2), ('show', 2), ('problems', 2), ('challenge', 2), ('speak', 2), ('values', 2), ('conscience', 2), ('poverty', 2), ('acts', 2), ('love', 2), ('there', 2), ('just', 2), ('only', 2), ('communities', 2), ('call', 2), ('find', 2), ('commitments', 2), ('interest', 2), ('things', 2), ('day', 2), ('important', 2), ('ask', 2), ('against', 2), ('generous', 2), ('strong', 2), ('jefferson', 2), ('angel', 2), ('rides', 2), ('whirlwind', 2), ('directs', 2), ('storm', 2), ('dignity', 2), ('bless', 2), ('chief', 1), ('rehnquist', 1), ('carter', 1), ('bush', 1), ('distinguished', 1), ('guests', 1), ('fellow', 1), ('peaceful', 1), ('transfer', 1), ('authority', 1), ('rare', 1), ('oath', 1), ('traditions', 1), ('beginnings', 1), ('begin', 1), ('vice', 1), ('gore', 1), ('contest', 1), ('conducted', 1), ('ended', 1), ('grace', 1), ('am', 1), ('humbled', 1), ('here', 1), ('come', 1), ('me', 1), ('continue', 1), ('whose', 1), ('end', 1), ('friend', 1), ('liberator', 1), ('thestory', 1), ('slaveholding', 1), ('servant', 1), ('went', 1), ('into', 1), ('protect', 1), ('possess', 1), ('conquer', 1), ('flawed', 1), ('fallible', 1), ('people', 1), ('across', 1), ('enduring', 1), ('grandest', 1), ('unfolding', 1), ('belongs', 1), ('deserves', 1), ('chance', 1), ('insignificant', 1), ('person', 1), ('ever', 1), ('born', 1), ('enact', 1), ('halted', 1), ('delayed', 1), ('course', 1), ('last', 1), ('rock', 1), ('raging', 1), ('sea', 1), ('seed', 1), ('upon', 1), ('wind', 1), ('taking', 1), ('root', 1), ('democratic', 1), ('creed', 1), ('inborn', 1), ('ideal', 1), ('carry', 1), ('bear', 1), ('along', 1), ('nearly', 1), ('225', 1), ('travel', 1), ('while', 1), ('prosper', 1), ('others', 1), ('doubt', 1), ('ambitions', 1), ('limited', 1), ('failing', 1), ('hidden', 1), ('prejudice', 1), ('circumstances', 1), ('differences', 1), ('run', 1), ('seems', 1), ('continent', 1), ('accept', 1), ('allow', 1), ('unity', 1), ('union', 1), ('serious', 1), ('generation', 1), ('solemn', 1), ('single', 1), ('opportunity', 1), ('within', 1), ('reach', 1), ('guided', 1), ('larger', 1), ('creates', 1), ('equal', 1), ('image', 1), ('confident', 1), ('unite', 1), ('onward', 1), ('blood', 1), ('soil', 1), ('bound', 1), ('move', 1), ('backgrounds', 1), ('lift', 1), ('above', 1), ('teach', 1), ('means', 1), ('child', 1), ('taught', 1), ('citizen', 1), ('uphold', 1), ('immigrant', 1), ('embracing', 1), ('makes', 1), ('less', 1), ('out', 1), ('matches', 1), ('principle', 1), ('concern', 1), ('demands', 1), ('each', 1), ('respect', 1), ('fair', 1), ('dealing', 1), ('forgiveness', 1), ('seem', 1), ('politics', 1), ('afford', 1), ('petty', 1), ('peace', 1), ('debates', 1), ('appear', 1), ('led', 1), ('turn', 1), ('hearts', 1), ('toward', 1), ('knowledge', 1), ('lose', 1), ('gifts', 1), ('undermine', 1), ('idealism', 1), ('permit', 1), ('drift', 1), ('decline', 1), ('vulnerable', 1), ('suffer', 1), ('up', 1), ('calling', 1), ('tactic', 1), ('sentiment', 1), ('determined', 1), ('cynicism', 1), ('chaos', 1), ('keep', 1), ('shared', 1), ('accomplishment', 1), ('also', 1), ('courageous', 1), ('national', 1), ('clear', 1), ('depression', 1), ('war', 1), ('defeating', 1), ('dangers', 1), ('defined', 1), ('choose', 1), ('example', 1), ('fathers', 1), ('mothers', 1), ('inspire', 1), ('condemn', 1), ('blessing', 1), ('confronting', 1), ('instead', 1), ('passing', 1), ('onto', 1), ('future', 1), ('together', 1), ('reclaim', 1), ('ignorance', 1), ('apathy', 1), ('claim', 1), ('young', 1), ('reform', 1), ('social', 1), ('security', 1), ('medicare', 1), ('sparing', 1), ('struggles', 1), ('prevent', 1), ('reduce', 1), ('taxes', 1), ('recover', 1), ('momentum', 1), ('reward', 1), ('efforts', 1), ('enterprise', 1), ('working', 1), ('defenses', 1), ('lest', 1), ('weakness', 1), ('invite', 1), ('confront', 1), ('weapons', 1), ('mass', 1), ('destruction', 1), ('spared', 1), ('horrors', 1), ('enemies', 1), ('liberty', 1), ('should', 1), ('mistake', 1), ('remains', 1), ('engaged', 1), ('shaping', 1), ('balance', 1), ('favors', 1), ('allies', 1), ('without', 1), ('arrogance', 1), ('meet', 1), ('aggression', 1), ('bad', 1), ('resolve', 1), ('strength', 1), ('gave', 1), ('compassionate', 1), ('quiet', 1), ('persistent', 1), ('unworthy', 1), ('whatever', 1), ('views', 1), ('agree', 1), ('risk', 1), ('fault', 1), ('abandonment', 1), ('abuse', 1), ('failures', 1), ('proliferation', 1), ('prisons', 1), ('however', 1), ('necessary', 1), ('substitute', 1), ('order', 1), ('souls', 1), ('suffering', 1), ('need', 1), ('strangers', 1), ('priorities', 1), ('diminished', 1), ('any', 1), ('hopeless', 1), ('responsibilities', 1), ('safety', 1), ('health', 1), ('rights', 1), ('needs', 1), ('hurts', 1), ('respond', 1), ('mentors', 1), ('touch', 1), ('pastors', 1), ('prayer', 1), ('church', 1), ('charity', 1), ('synagogue', 1), ('mosque', 1), ('lend', 1), ('plans', 1), ('pain', 1), ('listen', 1), ('those', 1), ('goal', 1), ('wounded', 1), ('traveler', 1), ('road', 1), ('jericho', 1), ('side', 1), ('personal', 1), ('valued', 1), ('expected', 1), ('encouraging', 1), ('search', 1), ('scapegoats', 1), ('requires', 1), ('sacrifice', 1), ('brings', 1), ('deeper', 1), ('fulfillment', 1), ('fullness', 1), ('options', 1), ('set', 1), ('free', 1), ('depends', 1), ('private', 1), ('civic', 1), ('family', 1), ('bonds', 1), ('basic', 1), ('fairness', 1), ('uncounted', 1), ('unhonored', 1), ('decency', 1), ('which', 1), ('give', 1), ('direction', 1), ('saint', 1), ('said', 1), ('tasks', 1), ('done', 1), ('advance', 1), ('convictions', 1), ('pursue', 1), ('greater', 1), ('try', 1), ('well', 1), ('ways', 1), ('bring', 1), ('care', 1), ('anything', 1), ('seek', 1), ('comfort', 1), ('needed', 1), ('reforms', 1), ('easy', 1), ('attacks', 1), ('serve', 1), ('beginning', 1), ('neighbor', 1), ('citizenscitizens', 1), ('spectators', 1), ('subjects', 1), ('responsible', 1), ('building', 1), ('decent', 1), ('hold', 1), ('beliefs', 1), ('citizenship', 1), ('missing', 1), ('program', 1), ('replace', 1), ('present', 1), ('wrong', 1), ('declaration', 1), ('independence', 1), ('signed', 1), ('virginia', 1), ('statesman', 1), ('john', 1), ('page', 1), ('wrote', 1), ('thomas', 1), ('race', 1), ('swift', 1), ('nor', 1), ('battle', 1), ('think', 1), ('passed', 1), ('since', 1), ('arrived', 1), ('inauguration', 1), ('changes', 1), ('accumulate', 1), ('themes', 1), ('he', 1), ('would', 1), ('dream', 1), ('storys', 1), ('author', 1), ('fills', 1), ('eternity', 1), ('achieved', 1), ('fulfilled', 1), ('one', 1), ('another', 1), ('tiring', 1), ('yielding', 1), ('finishing', 1), ('renew', 1), ('continues', 1), ('goes', 1), ('still', 1)]\n",
      "\n",
      "Obama's Hapax Legomena: ['fellow', 'citizens', 'here', 'humbled', 'grateful', 'bestowed', 'mindful', 'sacrifices', 'borne', 'ancestors', 'president', 'bush', 'his', 'generosity', 'he', 'shown', 'transition', 'fortyfour', 'presidential', 'spoken', 'during', 'rising', 'tides', 'amidst', 'gathering', 'clouds', 'raging', 'moments', 'simply', 'skill', 'vision', 'high', 'office', 'remained', 'faithful', 'forbearers', 'documents', 'midst', 'against', 'farreaching', 'network', 'violence', 'hatred', 'badly', 'weakened', 'consequence', 'greed', 'irresponsibility', 'collective', 'failure', 'choices', 'prepare', 'homes', 'lost', 'shed', 'businesses', 'shuttered', 'costly', 'brings', 'further', 'evidence', 'ways', 'energy', 'strengthen', 'adversaries', 'threaten', 'indicators', 'subject', 'data', 'statistics', 'measurable', 'profound', 'sapping', 'land', 'nagging', 'decline', 'inevitable', 'next', 'sights', 'real', 'serious', 'easily', 'span', 'gather', 'chosen', 'unity', 'discord', 'proclaim', 'petty', 'grievances', 'promises', 'recriminations', 'wornout', 'dogmas', 'strangled', 'politics', 'young', 'scripture', 'set', 'aside', 'childish', 'reaffirm', 'choose', 'carry', 'precious', 'noble', 'idea', 'godgiven', 'equal', 'deserve', 'chance', 'pursue', 'full', 'measure', 'happiness', 'reaffirming', 'given', 'earned', 'shortcuts', 'settling', 'fainthearted', 'prefer', 'leisure', 'pleasures', 'riches', 'fame', 'risktakers', 'doers', 'makers', 'thingssome', 'celebrated', 'obscure', 'labor', 'rugged', 'towards', 'packed', 'few', 'worldly', 'possessions', 'oceans', 'search', 'toiled', 'sweatshops', 'settled', 'endured', 'lash', 'whip', 'plowed', 'fought', 'died', 'places', 'concord', 'gettysburg', 'normandy', 'khe', 'sahn', 'struggled', 'sacrificed', 'worked', 'till', 'hands', 'raw', 'live', 'saw', 'bigger', 'sum', 'individual', 'differences', 'faction', 'continue', 'powerful', 'productive', 'began', 'inventive', 'goods', 'services', 'needed', 'week', 'month', 'capacity', 'remains', 'undiminished', 'standing', 'pat', 'protecting', 'narrow', 'interests', 'putting', 'unpleasant', 'decisions', 'surely', 'starting', 'pick', 'dust', 'remaking', 'everywhere', 'look', 'state', 'action', 'bold', 'swift', 'act', 'create', 'lay', 'foundation', 'growth', 'roads', 'bridges', 'electric', 'grids', 'digital', 'commerce', 'bind', 'together', 'science', 'rightful', 'place', 'wield', 'technologys', 'wonders', 'raise', 'cares', 'quality', 'cost', 'harness', 'sun', 'winds', 'soil', 'fuel', 'cars', 'run', 'factories', 'transform', 'colleges', 'universities', 'demands', 'scale', 'suggest', 'system', 'tolerate', 'plans', 'memories', 'forgotten', 'already', 'achieve', 'imagination', 'joined', 'necessity', 'cynics', 'ground', 'shifted', 'beneath', 'stale', 'political', 'arguments', 'consumed', 'apply', 'ask', 'works', 'helps', 'families', 'decent', 'wage', 'retirement', 'dignified', 'yes', 'intend', 'move', 'programs', 'manage', 'publics', 'dollars', 'held', 'account', 'spend', 'wisely', 'reform', 'bad', 'habits', 'business', 'vital', 'ill', 'generate', 'expand', 'unmatched', 'reminded', 'watchful', 'eye', 'spin', 'control', 'prosper', 'favors', 'always', 'depended', 'size', 'gross', 'domestic', 'product', 'reach', 'ability', 'opportunity', 'heart', 'charity', 'surest', 'route', 'reject', 'choice', 'safety', 'fathers', 'perils', 'scarcely', 'imagine', 'drafted', 'assure', 'rule', 'law', 'rights', 'expanded', 'give', 'expediences', 'sake', 'other', 'peoples', 'governments', 'watching', 'grandest', 'capitals', 'village', 'born', 'woman', 'seeks', 'dignity', 'ready', 'lead', 'recall', 'earlier', 'down', 'fascism', 'communism', 'missiles', 'tanks', 'sturdy', 'alliances', 'convictions', 'alone', 'protect', 'does', 'entitle', 'please', 'instead', 'knew', 'prudent', 'security', 'emanates', 'justness', 'cause', 'example', 'tempering', 'qualities', 'humility', 'restraint', 'keepers', 'legacy', 'guided', 'principles', 'threats', 'demand', 'effort', 'understanding', 'responsibly', 'leave', 'iraq', 'forge', 'hardearned', 'afghanistan', 'friends', 'former', 'foes', 'tirelessly', 'lessen', 'nuclear', 'threat', 'roll', 'specter', 'warming', 'apologize', 'waver', 'advance', 'aims', 'inducing', 'terror', 'slaughtering', 'innocents', 'broken', 'outlast', 'defeat', 'patchwork', 'heritage', 'strength', 'weakness', 'christians', 'muslims', 'jews', 'hindus', 'nonbelievers', 'shaped', 'language', 'culture', 'drawn', 'tasted', 'bitter', 'swill', 'civil', 'segregation', 'emerged', 'dark', 'chapter', 'help', 'believe', 'hatreds', 'someday', 'pass', 'tribe', 'soon', 'dissolve', 'smaller', 'humanity', 'reveal', 'itself', 'role', 'ushering', 'muslim', 'based', 'interest', 'respect', 'leaders', 'around', 'globe', 'sow', 'blame', 'societys', 'ills', 'judge', 'destroy', 'cling', 'corruption', 'deceit', 'silencing', 'dissent', 'wrong', 'side', 'hand', 'if', 'unclench', 'fist', 'poor', 'pledge', 'alongside', 'farms', 'flourish', 'clean', 'flow', 'nourish', 'starved', 'bodies', 'hungry', 'ours', 'enjoy', 'relative', 'plenty', 'indifference', 'suffering', 'outside', 'borders', 'consume', 'worlds', 'resources', 'regard', 'effect', 'changed', 'change', 'consider', 'road', 'unfolds', 'humble', 'gratitude', 'very', 'hour', 'patrol', 'faroff', 'deserts', 'distant', 'mountains', 'tell', 'fallen', 'heroes', 'lie', 'arlington', 'whisper', 'ages', 'honor', 'guardians', 'embody', 'themselves', 'define', 'precisely', 'inhabit', 'much', 'ultimately', 'determination', 'relies', 'kindness', 'stranger', 'levees', 'break', 'selflessness', 'would', 'cut', 'see', 'lose', 'job', 'sees', 'darkest', 'firefighters', 'storm', 'stairway', 'filled', 'smoke', 'parents', 'nurture', 'finally', 'decides', 'fate', 'instruments', 'values', 'depends', 'honesty', 'fair', 'tolerance', 'curiosity', 'loyalty', 'patriotism', 'quiet', 'progress', 'demanded', 'return', 'truths', 'required', 'responsibility', 'recognition', 'grudgingly', 'accept', 'seize', 'gladly', 'firm', 'satisfying', 'defining', 'character', 'giving', 'difficult', 'price', 'citizenship', 'source', 'shape', 'uncertain', 'destiny', 'creed', 'race', 'join', 'celebration', 'magnificent', 'mall', 'whose', 'sixty', 'years', 'ago', 'served', 'local', 'restaurant', 'sacred', 'mark', 'remembrance', 'how', 'coldest', 'months', 'band', 'patriots', 'huddled', 'dying', 'campfires', 'shores', 'river', 'capital', 'abandoned', 'enemy', 'advancing', 'snow', 'stained', 'outcome', 'revolution', 'doubt', 'ordered', 'read', 'told', 'depth', 'could', 'survive', 'city', 'alarmed', 'danger', 'came', 'dangers', 'hardship', 'timeless', 'currents', 'endure', 'said', 'childrens', 'tested', 'refused', 'turn', 'falter', 'eyes', 'fixed', 'horizon', 'gods', 'grace', 'great', 'delivered', 'safely', 'states']\n",
      "Obama's Words with a Frequency of at most 4: [('before', 4), ('words', 4), ('peace', 4), ('crisis', 4), ('come', 4), ('end', 4), ('long', 4), ('seek', 4), ('men', 4), ('women', 4), ('up', 4), ('greater', 4), ('meet', 4), ('them', 4), ('whether', 4), ('power', 4), ('through', 4), ('which', 4), ('i', 3), ('americans', 3), ('oath', 3), ('prosperity', 3), ('carried', 3), ('ideals', 3), ('economy', 3), ('hard', 3), ('jobs', 3), ('many', 3), ('across', 3), ('say', 3), ('hope', 3), ('over', 3), ('an', 3), ('things', 3), ('history', 3), ('forward', 3), ('journey', 3), ('rather', 3), ('freedom', 3), ('life', 3), ('earth', 3), ('were', 3), ('most', 3), ('last', 3), ('ourselves', 3), ('there', 3), ('question', 3), ('courage', 3), ('government', 3), ('small', 3), ('where', 3), ('between', 3), ('force', 3), ('just', 3), ('man', 3), ('generations', 3), ('father', 3), ('future', 3), ('once', 3), ('nations', 3), ('old', 3), ('shall', 3), ('your', 3), ('moment', 3), ('upon', 3), ('may', 3), ('god', 3), ('my', 2), ('stand', 2), ('task', 2), ('trust', 2), ('thank', 2), ('service', 2), ('well', 2), ('cooperation', 2), ('throughout', 2), ('taken', 2), ('still', 2), ('waters', 2), ('yet', 2), ('often', 2), ('storms', 2), ('true', 2), ('founding', 2), ('understood', 2), ('war', 2), ('part', 2), ('some', 2), ('also', 2), ('make', 2), ('age', 2), ('health', 2), ('care', 2), ('schools', 2), ('fail', 2), ('each', 2), ('use', 2), ('planet', 2), ('confidence', 2), ('fear', 2), ('americas', 2), ('lower', 2), ('challenges', 2), ('face', 2), ('met', 2), ('short', 2), ('purpose', 2), ('conflict', 2), ('false', 2), ('far', 2), ('remain', 2), ('enduring', 2), ('better', 2), ('gift', 2), ('passed', 2), ('promise', 2), ('free', 2), ('greatness', 2), ('understand', 2), ('never', 2), ('one', 2), ('path', 2), ('traveled', 2), ('west', 2), ('like', 2), ('again', 2), ('might', 2), ('ambitions', 2), ('birth', 2), ('wealth', 2), ('prosperous', 2), ('workers', 2), ('minds', 2), ('year', 2), ('off', 2), ('begin', 2), ('done', 2), ('calls', 2), ('build', 2), ('lines', 2), ('feed', 2), ('restore', 2), ('big', 2), ('country', 2), ('longer', 2), ('find', 2), ('afford', 2), ('answer', 2), ('light', 2), ('then', 2), ('market', 2), ('good', 2), ('without', 2), ('out', 2), ('success', 2), ('extend', 2), ('willing', 2), ('defense', 2), ('faced', 2), ('charter', 2), ('blood', 2), ('friend', 2), ('child', 2), ('grows', 2), ('even', 2), ('back', 2), ('way', 2), ('stronger', 2), ('united', 2), ('play', 2), ('era', 2), ('mutual', 2), ('remember', 2), ('brave', 2), ('something', 2), ('liberty', 2), ('willingness', 2), ('meaning', 2), ('faith', 2), ('american', 2), ('take', 2), ('hours', 2), ('duties', 2), ('knowledge', 2), ('nothing', 2), ('why', 2), ('children', 2), ('icy', 2), ('winter', 2), ('virtue', 2), ('forth', 2), ('did', 2), ('bless', 2), ('fellow', 1), ('citizens', 1), ('here', 1), ('humbled', 1), ('grateful', 1), ('bestowed', 1), ('mindful', 1), ('sacrifices', 1), ('borne', 1), ('ancestors', 1), ('president', 1), ('bush', 1), ('his', 1), ('generosity', 1), ('he', 1), ('shown', 1), ('transition', 1), ('fortyfour', 1), ('presidential', 1), ('spoken', 1), ('during', 1), ('rising', 1), ('tides', 1), ('amidst', 1), ('gathering', 1), ('clouds', 1), ('raging', 1), ('moments', 1), ('simply', 1), ('skill', 1), ('vision', 1), ('high', 1), ('office', 1), ('remained', 1), ('faithful', 1), ('forbearers', 1), ('documents', 1), ('midst', 1), ('against', 1), ('farreaching', 1), ('network', 1), ('violence', 1), ('hatred', 1), ('badly', 1), ('weakened', 1), ('consequence', 1), ('greed', 1), ('irresponsibility', 1), ('collective', 1), ('failure', 1), ('choices', 1), ('prepare', 1), ('homes', 1), ('lost', 1), ('shed', 1), ('businesses', 1), ('shuttered', 1), ('costly', 1), ('brings', 1), ('further', 1), ('evidence', 1), ('ways', 1), ('energy', 1), ('strengthen', 1), ('adversaries', 1), ('threaten', 1), ('indicators', 1), ('subject', 1), ('data', 1), ('statistics', 1), ('measurable', 1), ('profound', 1), ('sapping', 1), ('land', 1), ('nagging', 1), ('decline', 1), ('inevitable', 1), ('next', 1), ('sights', 1), ('real', 1), ('serious', 1), ('easily', 1), ('span', 1), ('gather', 1), ('chosen', 1), ('unity', 1), ('discord', 1), ('proclaim', 1), ('petty', 1), ('grievances', 1), ('promises', 1), ('recriminations', 1), ('wornout', 1), ('dogmas', 1), ('strangled', 1), ('politics', 1), ('young', 1), ('scripture', 1), ('set', 1), ('aside', 1), ('childish', 1), ('reaffirm', 1), ('choose', 1), ('carry', 1), ('precious', 1), ('noble', 1), ('idea', 1), ('godgiven', 1), ('equal', 1), ('deserve', 1), ('chance', 1), ('pursue', 1), ('full', 1), ('measure', 1), ('happiness', 1), ('reaffirming', 1), ('given', 1), ('earned', 1), ('shortcuts', 1), ('settling', 1), ('fainthearted', 1), ('prefer', 1), ('leisure', 1), ('pleasures', 1), ('riches', 1), ('fame', 1), ('risktakers', 1), ('doers', 1), ('makers', 1), ('thingssome', 1), ('celebrated', 1), ('obscure', 1), ('labor', 1), ('rugged', 1), ('towards', 1), ('packed', 1), ('few', 1), ('worldly', 1), ('possessions', 1), ('oceans', 1), ('search', 1), ('toiled', 1), ('sweatshops', 1), ('settled', 1), ('endured', 1), ('lash', 1), ('whip', 1), ('plowed', 1), ('fought', 1), ('died', 1), ('places', 1), ('concord', 1), ('gettysburg', 1), ('normandy', 1), ('khe', 1), ('sahn', 1), ('struggled', 1), ('sacrificed', 1), ('worked', 1), ('till', 1), ('hands', 1), ('raw', 1), ('live', 1), ('saw', 1), ('bigger', 1), ('sum', 1), ('individual', 1), ('differences', 1), ('faction', 1), ('continue', 1), ('powerful', 1), ('productive', 1), ('began', 1), ('inventive', 1), ('goods', 1), ('services', 1), ('needed', 1), ('week', 1), ('month', 1), ('capacity', 1), ('remains', 1), ('undiminished', 1), ('standing', 1), ('pat', 1), ('protecting', 1), ('narrow', 1), ('interests', 1), ('putting', 1), ('unpleasant', 1), ('decisions', 1), ('surely', 1), ('starting', 1), ('pick', 1), ('dust', 1), ('remaking', 1), ('everywhere', 1), ('look', 1), ('state', 1), ('action', 1), ('bold', 1), ('swift', 1), ('act', 1), ('create', 1), ('lay', 1), ('foundation', 1), ('growth', 1), ('roads', 1), ('bridges', 1), ('electric', 1), ('grids', 1), ('digital', 1), ('commerce', 1), ('bind', 1), ('together', 1), ('science', 1), ('rightful', 1), ('place', 1), ('wield', 1), ('technologys', 1), ('wonders', 1), ('raise', 1), ('cares', 1), ('quality', 1), ('cost', 1), ('harness', 1), ('sun', 1), ('winds', 1), ('soil', 1), ('fuel', 1), ('cars', 1), ('run', 1), ('factories', 1), ('transform', 1), ('colleges', 1), ('universities', 1), ('demands', 1), ('scale', 1), ('suggest', 1), ('system', 1), ('tolerate', 1), ('plans', 1), ('memories', 1), ('forgotten', 1), ('already', 1), ('achieve', 1), ('imagination', 1), ('joined', 1), ('necessity', 1), ('cynics', 1), ('ground', 1), ('shifted', 1), ('beneath', 1), ('stale', 1), ('political', 1), ('arguments', 1), ('consumed', 1), ('apply', 1), ('ask', 1), ('works', 1), ('helps', 1), ('families', 1), ('decent', 1), ('wage', 1), ('retirement', 1), ('dignified', 1), ('yes', 1), ('intend', 1), ('move', 1), ('programs', 1), ('manage', 1), ('publics', 1), ('dollars', 1), ('held', 1), ('account', 1), ('spend', 1), ('wisely', 1), ('reform', 1), ('bad', 1), ('habits', 1), ('business', 1), ('vital', 1), ('ill', 1), ('generate', 1), ('expand', 1), ('unmatched', 1), ('reminded', 1), ('watchful', 1), ('eye', 1), ('spin', 1), ('control', 1), ('prosper', 1), ('favors', 1), ('always', 1), ('depended', 1), ('size', 1), ('gross', 1), ('domestic', 1), ('product', 1), ('reach', 1), ('ability', 1), ('opportunity', 1), ('heart', 1), ('charity', 1), ('surest', 1), ('route', 1), ('reject', 1), ('choice', 1), ('safety', 1), ('fathers', 1), ('perils', 1), ('scarcely', 1), ('imagine', 1), ('drafted', 1), ('assure', 1), ('rule', 1), ('law', 1), ('rights', 1), ('expanded', 1), ('give', 1), ('expediences', 1), ('sake', 1), ('other', 1), ('peoples', 1), ('governments', 1), ('watching', 1), ('grandest', 1), ('capitals', 1), ('village', 1), ('born', 1), ('woman', 1), ('seeks', 1), ('dignity', 1), ('ready', 1), ('lead', 1), ('recall', 1), ('earlier', 1), ('down', 1), ('fascism', 1), ('communism', 1), ('missiles', 1), ('tanks', 1), ('sturdy', 1), ('alliances', 1), ('convictions', 1), ('alone', 1), ('protect', 1), ('does', 1), ('entitle', 1), ('please', 1), ('instead', 1), ('knew', 1), ('prudent', 1), ('security', 1), ('emanates', 1), ('justness', 1), ('cause', 1), ('example', 1), ('tempering', 1), ('qualities', 1), ('humility', 1), ('restraint', 1), ('keepers', 1), ('legacy', 1), ('guided', 1), ('principles', 1), ('threats', 1), ('demand', 1), ('effort', 1), ('understanding', 1), ('responsibly', 1), ('leave', 1), ('iraq', 1), ('forge', 1), ('hardearned', 1), ('afghanistan', 1), ('friends', 1), ('former', 1), ('foes', 1), ('tirelessly', 1), ('lessen', 1), ('nuclear', 1), ('threat', 1), ('roll', 1), ('specter', 1), ('warming', 1), ('apologize', 1), ('waver', 1), ('advance', 1), ('aims', 1), ('inducing', 1), ('terror', 1), ('slaughtering', 1), ('innocents', 1), ('broken', 1), ('outlast', 1), ('defeat', 1), ('patchwork', 1), ('heritage', 1), ('strength', 1), ('weakness', 1), ('christians', 1), ('muslims', 1), ('jews', 1), ('hindus', 1), ('nonbelievers', 1), ('shaped', 1), ('language', 1), ('culture', 1), ('drawn', 1), ('tasted', 1), ('bitter', 1), ('swill', 1), ('civil', 1), ('segregation', 1), ('emerged', 1), ('dark', 1), ('chapter', 1), ('help', 1), ('believe', 1), ('hatreds', 1), ('someday', 1), ('pass', 1), ('tribe', 1), ('soon', 1), ('dissolve', 1), ('smaller', 1), ('humanity', 1), ('reveal', 1), ('itself', 1), ('role', 1), ('ushering', 1), ('muslim', 1), ('based', 1), ('interest', 1), ('respect', 1), ('leaders', 1), ('around', 1), ('globe', 1), ('sow', 1), ('blame', 1), ('societys', 1), ('ills', 1), ('judge', 1), ('destroy', 1), ('cling', 1), ('corruption', 1), ('deceit', 1), ('silencing', 1), ('dissent', 1), ('wrong', 1), ('side', 1), ('hand', 1), ('if', 1), ('unclench', 1), ('fist', 1), ('poor', 1), ('pledge', 1), ('alongside', 1), ('farms', 1), ('flourish', 1), ('clean', 1), ('flow', 1), ('nourish', 1), ('starved', 1), ('bodies', 1), ('hungry', 1), ('ours', 1), ('enjoy', 1), ('relative', 1), ('plenty', 1), ('indifference', 1), ('suffering', 1), ('outside', 1), ('borders', 1), ('consume', 1), ('worlds', 1), ('resources', 1), ('regard', 1), ('effect', 1), ('changed', 1), ('change', 1), ('consider', 1), ('road', 1), ('unfolds', 1), ('humble', 1), ('gratitude', 1), ('very', 1), ('hour', 1), ('patrol', 1), ('faroff', 1), ('deserts', 1), ('distant', 1), ('mountains', 1), ('tell', 1), ('fallen', 1), ('heroes', 1), ('lie', 1), ('arlington', 1), ('whisper', 1), ('ages', 1), ('honor', 1), ('guardians', 1), ('embody', 1), ('themselves', 1), ('define', 1), ('precisely', 1), ('inhabit', 1), ('much', 1), ('ultimately', 1), ('determination', 1), ('relies', 1), ('kindness', 1), ('stranger', 1), ('levees', 1), ('break', 1), ('selflessness', 1), ('would', 1), ('cut', 1), ('see', 1), ('lose', 1), ('job', 1), ('sees', 1), ('darkest', 1), ('firefighters', 1), ('storm', 1), ('stairway', 1), ('filled', 1), ('smoke', 1), ('parents', 1), ('nurture', 1), ('finally', 1), ('decides', 1), ('fate', 1), ('instruments', 1), ('values', 1), ('depends', 1), ('honesty', 1), ('fair', 1), ('tolerance', 1), ('curiosity', 1), ('loyalty', 1), ('patriotism', 1), ('quiet', 1), ('progress', 1), ('demanded', 1), ('return', 1), ('truths', 1), ('required', 1), ('responsibility', 1), ('recognition', 1), ('grudgingly', 1), ('accept', 1), ('seize', 1), ('gladly', 1), ('firm', 1), ('satisfying', 1), ('defining', 1), ('character', 1), ('giving', 1), ('difficult', 1), ('price', 1), ('citizenship', 1), ('source', 1), ('shape', 1), ('uncertain', 1), ('destiny', 1), ('creed', 1), ('race', 1), ('join', 1), ('celebration', 1), ('magnificent', 1), ('mall', 1), ('whose', 1), ('sixty', 1), ('years', 1), ('ago', 1), ('served', 1), ('local', 1), ('restaurant', 1), ('sacred', 1), ('mark', 1), ('remembrance', 1), ('how', 1), ('coldest', 1), ('months', 1), ('band', 1), ('patriots', 1), ('huddled', 1), ('dying', 1), ('campfires', 1), ('shores', 1), ('river', 1), ('capital', 1), ('abandoned', 1), ('enemy', 1), ('advancing', 1), ('snow', 1), ('stained', 1), ('outcome', 1), ('revolution', 1), ('doubt', 1), ('ordered', 1), ('read', 1), ('told', 1), ('depth', 1), ('could', 1), ('survive', 1), ('city', 1), ('alarmed', 1), ('danger', 1), ('came', 1), ('dangers', 1), ('hardship', 1), ('timeless', 1), ('currents', 1), ('endure', 1), ('said', 1), ('childrens', 1), ('tested', 1), ('refused', 1), ('turn', 1), ('falter', 1), ('eyes', 1), ('fixed', 1), ('horizon', 1), ('gods', 1), ('grace', 1), ('great', 1), ('delivered', 1), ('safely', 1), ('states', 1)]\n",
      "\n",
      "Trump's Hapax Legomena: ['chief', 'justice', 'roberts', 'carter', 'clinton', 'bush', 'fellow', 'joined', 'effort', 'rebuild', 'restore', 'promise', 'determine', 'course', 'come', 'challenges', 'confront', 'hardships', 'job', 'four', 'gather', 'steps', 'carry', 'out', 'orderly', 'peaceful', 'transfer', 'grateful', 'lady', 'michelle', 'gracious', 'aid', 'throughout', 'transition', 'magnificent', 'todays', 'ceremony', 'however', 'special', 'meaning', 'merely', 'administration', 'dc', 'giving', 'group', 'reaped', 'rewards', 'borne', 'cost', 'flourished', 'did', 'prosperedbut', 'closed', 'establishment', 'itself', 'celebrated', 'was', 'little', 'celebrate', 'struggling', 'changes', 'starting', 'gathered', 'watching', 'celebration', 'what', 'truly', 'matters', 'controls', 'controlled', 'january', '20th', '2017', 'remembered', 'became', 'rulers', 'listening', 'came', 'tens', 'become', 'part', 'historic', 'likes', 'seen', 'center', 'crucial', 'conviction', 'serve', 'want', 'schools', 'neighborhoods', 'themselves', 'just', 'reasonable', 'demands', 'righteous', 'public', 'different', 'reality', 'mothers', 'trapped', 'poverty', 'inner', 'cities', 'rustedout', 'scattered', 'tombstones', 'landscape', 'education', 'system', 'flush', 'cash', 'leaves', 'young', 'beautiful', 'students', 'deprived', 'knowledge', 'crime', 'gangs', 'drugs', 'stolen', 'lives', 'robbed', 'much', 'unrealized', 'potential', 'carnage', 'home', 'office', 'take', 'decades', 'enriched', 'expense', 'subsidized', 'armies', 'allowing', 'sad', 'depletion', 'defended', 'refusing', 'defend', 'spent', 'trillions', 'dollars', 'overseas', 'americas', 'infrastructure', 'fallen', 'into', 'disrepair', 'decay', 'rich', 'confidence', 'disappeared', 'horizon', 'shuttered', 'shores', 'thought', 'upon', 'behind', 'middle', 'class', 'ripped', 'homes', 'then', 'redistributed', 'entire', 'past', 'looking', 'future', 'assembled', 'issuing', 'decree', 'heard', 'hall', 'forward', 'vision', 'govern', 'going', 'decision', 'trade', 'taxes', 'immigration', 'affairs', 'benefit', 'protect', 'ravages', 'making', 'products', 'stealing', 'companies', 'destroying', 'protection', 'lead', 'prosperity', 'my', 'body', 'ever', 'down', 'start', 'build', 'roads', 'highways', 'bridges', 'airports', 'tunnels', 'railways', 'wonderful', 'off', 'welfare', 'work', 'rebuilding', 'hands', 'labor', 'two', 'simple', 'rules', 'buy', 'hire', 'friendship', 'goodwill', 'understanding', 'put', 'interests', 'impose', 'rather', 'shine', 'example', 'reinforce', 'alliances', 'form', 'ones', 'unite', 'civilized', 'against', 'radical', 'islamic', 'terrorism', 'eradicate', 'completely', 'bedrock', 'politics', 'total', 'through', 'rediscover', 'each', 'open', 'patriotism', 'room', 'prejudice', 'bible', 'tells', 'how', 'pleasant', 'gods', 'live', 'unity', 'speak', 'minds', 'openly', 'debate', 'disagreements', 'honestly', 'pursue', 'solidarity', 'totally', 'unstoppable', 'should', 'fear', 'law', 'enforcement', 'most', 'importantly', 'finally', 'think', 'big', 'dream', 'bigger', 'understand', 'living', 'striving', 'accept', 'who', 'constantly', 'complaining', 'doing', 'anything', 'empty', 'arrives', 'hour', 'tell', 'challenge', 'match', 'spirit', 'fail', 'thrive', 'prosper', 'stand', 'birth', 'millennium', 'ready', 'unlock', 'mysteries', 'space', 'free', 'miseries', 'disease', 'harness', 'energies', 'industries', 'technologies', 'tomorrow', 'pride', 'stir', 'souls', 'lift', 'sights', 'heal', 'divisions', 'remember', 'wisdom', 'soldiers', 'forget', 'black', 'brown', 'white', 'bleed', 'red', 'blood', 'patriots', 'enjoy', 'freedoms', 'salute', 'flag', 'child', 'born', 'urban', 'sprawl', 'detroit', 'windswept', 'plains', 'nebraska', 'look', 'up', 'night', 'sky', 'fill', 'infused', 'almighty', 'creator', 'near', 'far', 'large', 'hear', 'words', 'ignored', 'voice', 'hopes', 'define', 'courage', 'goodness', 'love', 'forever', 'guide', 'along', 'strong', 'wealthy', 'proud', 'yes']\n",
      "Trump's Words with a Frequency of at most 4: [('americans', 4), ('citizens', 4), ('its', 4), ('together', 4), ('power', 4), ('been', 4), ('today', 4), ('or', 4), ('wealth', 4), ('jobs', 4), ('here', 4), ('everyone', 4), ('which', 4), ('as', 4), ('heart', 4), ('bring', 4), ('obama', 3), ('these', 3), ('first', 3), ('too', 3), ('capital', 3), ('government', 3), ('left', 3), ('factories', 3), ('there', 3), ('families', 3), ('moment', 3), ('day', 3), ('united', 3), ('whether', 3), ('millions', 3), ('many', 3), ('an', 3), ('so', 3), ('i', 3), ('weve', 3), ('foreign', 3), ('countries', 3), ('borders', 3), ('must', 3), ('let', 3), ('do', 3), ('when', 3), ('god', 3), ('thank', 2), ('national', 2), ('years', 2), ('face', 2), ('get', 2), ('done', 2), ('very', 2), ('because', 2), ('transferring', 2), ('another', 2), ('party', 2), ('washington', 2), ('long', 2), ('small', 2), ('share', 2), ('politicians', 2), ('victories', 2), ('triumphs', 2), ('land', 2), ('belongs', 2), ('states', 2), ('forgotten', 2), ('men', 2), ('women', 2), ('longer', 2), ('movement', 2), ('before', 2), ('exists', 2), ('children', 2), ('safe', 2), ('good', 2), ('like', 2), ('stops', 2), ('pain', 2), ('success', 2), ('glorious', 2), ('destiny', 2), ('oath', 2), ('allegiance', 2), ('industry', 2), ('military', 2), ('own', 2), ('made', 2), ('strength', 2), ('over', 2), ('even', 2), ('about', 2), ('workers', 2), ('only', 2), ('city', 2), ('fight', 2), ('breath', 2), ('winning', 2), ('follow', 2), ('seek', 2), ('way', 2), ('life', 2), ('anyone', 2), ('old', 2), ('earth', 2), ('loyalty', 2), ('us', 2), ('always', 2), ('talk', 2), ('action', 2), ('time', 2), ('can', 2), ('mountain', 2), ('ocean', 2), ('bless', 2), ('chief', 1), ('justice', 1), ('roberts', 1), ('carter', 1), ('clinton', 1), ('bush', 1), ('fellow', 1), ('joined', 1), ('effort', 1), ('rebuild', 1), ('restore', 1), ('promise', 1), ('determine', 1), ('course', 1), ('come', 1), ('challenges', 1), ('confront', 1), ('hardships', 1), ('job', 1), ('four', 1), ('gather', 1), ('steps', 1), ('carry', 1), ('out', 1), ('orderly', 1), ('peaceful', 1), ('transfer', 1), ('grateful', 1), ('lady', 1), ('michelle', 1), ('gracious', 1), ('aid', 1), ('throughout', 1), ('transition', 1), ('magnificent', 1), ('todays', 1), ('ceremony', 1), ('however', 1), ('special', 1), ('meaning', 1), ('merely', 1), ('administration', 1), ('dc', 1), ('giving', 1), ('group', 1), ('reaped', 1), ('rewards', 1), ('borne', 1), ('cost', 1), ('flourished', 1), ('did', 1), ('prosperedbut', 1), ('closed', 1), ('establishment', 1), ('itself', 1), ('celebrated', 1), ('was', 1), ('little', 1), ('celebrate', 1), ('struggling', 1), ('changes', 1), ('starting', 1), ('gathered', 1), ('watching', 1), ('celebration', 1), ('what', 1), ('truly', 1), ('matters', 1), ('controls', 1), ('controlled', 1), ('january', 1), ('20th', 1), ('2017', 1), ('remembered', 1), ('became', 1), ('rulers', 1), ('listening', 1), ('came', 1), ('tens', 1), ('become', 1), ('part', 1), ('historic', 1), ('likes', 1), ('seen', 1), ('center', 1), ('crucial', 1), ('conviction', 1), ('serve', 1), ('want', 1), ('schools', 1), ('neighborhoods', 1), ('themselves', 1), ('just', 1), ('reasonable', 1), ('demands', 1), ('righteous', 1), ('public', 1), ('different', 1), ('reality', 1), ('mothers', 1), ('trapped', 1), ('poverty', 1), ('inner', 1), ('cities', 1), ('rustedout', 1), ('scattered', 1), ('tombstones', 1), ('landscape', 1), ('education', 1), ('system', 1), ('flush', 1), ('cash', 1), ('leaves', 1), ('young', 1), ('beautiful', 1), ('students', 1), ('deprived', 1), ('knowledge', 1), ('crime', 1), ('gangs', 1), ('drugs', 1), ('stolen', 1), ('lives', 1), ('robbed', 1), ('much', 1), ('unrealized', 1), ('potential', 1), ('carnage', 1), ('home', 1), ('office', 1), ('take', 1), ('decades', 1), ('enriched', 1), ('expense', 1), ('subsidized', 1), ('armies', 1), ('allowing', 1), ('sad', 1), ('depletion', 1), ('defended', 1), ('refusing', 1), ('defend', 1), ('spent', 1), ('trillions', 1), ('dollars', 1), ('overseas', 1), ('americas', 1), ('infrastructure', 1), ('fallen', 1), ('into', 1), ('disrepair', 1), ('decay', 1), ('rich', 1), ('confidence', 1), ('disappeared', 1), ('horizon', 1), ('shuttered', 1), ('shores', 1), ('thought', 1), ('upon', 1), ('behind', 1), ('middle', 1), ('class', 1), ('ripped', 1), ('homes', 1), ('then', 1), ('redistributed', 1), ('entire', 1), ('past', 1), ('looking', 1), ('future', 1), ('assembled', 1), ('issuing', 1), ('decree', 1), ('heard', 1), ('hall', 1), ('forward', 1), ('vision', 1), ('govern', 1), ('going', 1), ('decision', 1), ('trade', 1), ('taxes', 1), ('immigration', 1), ('affairs', 1), ('benefit', 1), ('protect', 1), ('ravages', 1), ('making', 1), ('products', 1), ('stealing', 1), ('companies', 1), ('destroying', 1), ('protection', 1), ('lead', 1), ('prosperity', 1), ('my', 1), ('body', 1), ('ever', 1), ('down', 1), ('start', 1), ('build', 1), ('roads', 1), ('highways', 1), ('bridges', 1), ('airports', 1), ('tunnels', 1), ('railways', 1), ('wonderful', 1), ('off', 1), ('welfare', 1), ('work', 1), ('rebuilding', 1), ('hands', 1), ('labor', 1), ('two', 1), ('simple', 1), ('rules', 1), ('buy', 1), ('hire', 1), ('friendship', 1), ('goodwill', 1), ('understanding', 1), ('put', 1), ('interests', 1), ('impose', 1), ('rather', 1), ('shine', 1), ('example', 1), ('reinforce', 1), ('alliances', 1), ('form', 1), ('ones', 1), ('unite', 1), ('civilized', 1), ('against', 1), ('radical', 1), ('islamic', 1), ('terrorism', 1), ('eradicate', 1), ('completely', 1), ('bedrock', 1), ('politics', 1), ('total', 1), ('through', 1), ('rediscover', 1), ('each', 1), ('open', 1), ('patriotism', 1), ('room', 1), ('prejudice', 1), ('bible', 1), ('tells', 1), ('how', 1), ('pleasant', 1), ('gods', 1), ('live', 1), ('unity', 1), ('speak', 1), ('minds', 1), ('openly', 1), ('debate', 1), ('disagreements', 1), ('honestly', 1), ('pursue', 1), ('solidarity', 1), ('totally', 1), ('unstoppable', 1), ('should', 1), ('fear', 1), ('law', 1), ('enforcement', 1), ('most', 1), ('importantly', 1), ('finally', 1), ('think', 1), ('big', 1), ('dream', 1), ('bigger', 1), ('understand', 1), ('living', 1), ('striving', 1), ('accept', 1), ('who', 1), ('constantly', 1), ('complaining', 1), ('doing', 1), ('anything', 1), ('empty', 1), ('arrives', 1), ('hour', 1), ('tell', 1), ('challenge', 1), ('match', 1), ('spirit', 1), ('fail', 1), ('thrive', 1), ('prosper', 1), ('stand', 1), ('birth', 1), ('millennium', 1), ('ready', 1), ('unlock', 1), ('mysteries', 1), ('space', 1), ('free', 1), ('miseries', 1), ('disease', 1), ('harness', 1), ('energies', 1), ('industries', 1), ('technologies', 1), ('tomorrow', 1), ('pride', 1), ('stir', 1), ('souls', 1), ('lift', 1), ('sights', 1), ('heal', 1), ('divisions', 1), ('remember', 1), ('wisdom', 1), ('soldiers', 1), ('forget', 1), ('black', 1), ('brown', 1), ('white', 1), ('bleed', 1), ('red', 1), ('blood', 1), ('patriots', 1), ('enjoy', 1), ('freedoms', 1), ('salute', 1), ('flag', 1), ('child', 1), ('born', 1), ('urban', 1), ('sprawl', 1), ('detroit', 1), ('windswept', 1), ('plains', 1), ('nebraska', 1), ('look', 1), ('up', 1), ('night', 1), ('sky', 1), ('fill', 1), ('infused', 1), ('almighty', 1), ('creator', 1), ('near', 1), ('far', 1), ('large', 1), ('hear', 1), ('words', 1), ('ignored', 1), ('voice', 1), ('hopes', 1), ('define', 1), ('courage', 1), ('goodness', 1), ('love', 1), ('forever', 1), ('guide', 1), ('along', 1), ('strong', 1), ('wealthy', 1), ('proud', 1), ('yes', 1)]\n",
      "\n",
      "Washington's Hapax Legomena: ['fellowcitizens', 'senate', 'among', 'vicissitudes', 'incident', 'life', 'filled', 'greater', 'anxieties', 'notification', 'transmitted', 'received', '14th', 'month', 'summoned', 'hear', 'veneration', 'had', 'chosen', 'fondest', 'predilection', 'flattering', 'hopes', 'decision', 'asylum', 'declining', 'years', 'dear', 'addition', 'habit', 'inclination', 'frequent', 'interruptions', 'health', 'gradual', 'waste', 'committed', 'time', 'other', 'magnitude', 'difficulty', 'called', 'sufficient', 'awaken', 'wisest', 'experienced', 'her', 'distrustful', 'scrutiny', 'overwhelm', 'despondence', 'inheriting', 'inferior', 'endowments', 'unpracticed', 'duties', 'civil', 'conscious', 'deficiencies', 'conflict', 'emotions', 'aver', 'faithful', 'study', 'collect', 'appreciation', 'circumstance', 'affected', 'hope', 'if', 'executing', 'task', 'much', 'swayed', 'grateful', 'remembrance', 'instances', 'affectionate', 'sensibility', 'transcendent', 'proof', 'thence', 'little', 'consulted', 'incapacity', 'disinclination', 'weighty', 'untried', 'cares', 'before', 'error', 'palliated', 'motives', 'mislead', 'consequences', 'judged', 'partiality', 'originated', 'obedience', 'summons', 'repaired', 'would', 'improper', 'omit', 'act', 'fervent', 'supplications', 'almighty', 'universe', 'presides', 'councils', 'nations', 'aids', 'supply', 'defect', 'benediction', 'consecrate', 'instituted', 'essential', 'purposes', 'enable', 'instrument', 'employed', 'execute', 'functions', 'allotted', 'charge', 'tendering', 'homage', 'author', 'expresses', 'large', 'either', 'bound', 'acknowledge', 'adore', 'invisible', 'conducts', 'affairs', 'men', 'step', 'advanced', 'character', 'independent', 'seems', 'distinguished', 'token', 'agency', 'important', 'revolution', 'accomplished', 'tranquil', 'voluntary', 'consent', 'many', 'distinct', 'resulted', 'compared', 'means', 'governments', 'return', 'pious', 'gratitude', 'along', 'anticipation', 'blessings', 'past', 'seem', 'presage', 'reflections', 'arising', 'out', 'crisis', 'forced', 'strongly', 'mind', 'suppressed', 'join', 'thinking', 'none', 'proceedings', 'new', 'auspiciously', 'commence', 'establishing', 'made', 'president', 'recommend', 'consideration', 'judge', 'now', 'meet', 'acquit', 'entering', 'further', 'refer', 'constitutional', 'charter', 'assembled', 'defining', 'powers', 'designates', 'attention', 'consistent', 'congenial', 'feelings', 'actuate', 'substitute', 'place', 'recommendation', 'tribute', 'due', 'talents', 'rectitude', 'patriotism', 'adorn', 'characters', 'selected', 'devise', 'adopt', 'honorable', 'behold', 'surest', 'pledges', 'side', 'local', 'prejudices', 'attachments', 'separate', 'party', 'animosities', 'misdirect', 'comprehensive', 'equal', 'eye', 'watch', 'assemblage', 'interests', 'another', 'foundation', 'our', 'national', 'laid', 'pure', 'principles', 'morality', 'preeminence', 'exemplified', 'attributes', 'win', 'affections', 'command', 'respect', 'world', 'dwell', 'prospect', 'satisfaction', 'ardent', 'inspire', 'truth', 'thoroughly', 'exists', 'economy', 'course', 'indissoluble', 'virtue', 'advantage', 'genuine', 'maxims', 'honest', 'magnanimous', 'solid', 'rewards', 'prosperity', 'felicity', 'we', 'persuaded', 'propitious', 'smiles', 'expected', 'disregards', 'eternal', 'right', 'itself', 'ordained', 'preservation', 'sacred', 'fire', 'liberty', 'destiny', 'republican', 'model', 'justly', 'considered', 'perhaps', 'deeply', 'finally', 'staked', 'experiment', 'entrusted', 'hands', 'besides', 'ordinary', 'submitted', 'care', 'remain', 'judgment', 'decide', 'exercise', 'occasional', 'power', 'delegated', 'fifth', 'constitution', 'juncture', 'objections', 'urged', 'against', 'degree', 'inquietude', 'birth', 'instead', 'undertaking', 'recommendations', 'guided', 'lights', 'derived', 'again', 'give', 'way', 'entire', 'discernment', 'pursuit', 'whilst', 'carefully', 'avoid', 'alteration', 'endanger', 'benefits', 'effective', 'await', 'lessons', 'experience', 'reverence', 'characteristic', 'rights', 'freemen', 'regard', 'harmony', 'sufficiently', 'question', 'impregnably', 'fortified', 'latter', 'safely', 'advantageously', 'promoted', 'foregoing', 'observations', 'add', 'properly', 'addressed', 'concerns', 'therefore', 'brief', 'possible', 'when', 'honored', 'call', 'service', 'then', 'eve', 'arduous', 'struggle', 'light', 'contemplated', 'required', 'should', 'renounce', 'compensation', 'resolution', 'instance', 'departed', 'still', 'produced', 'decline', 'inapplicable', 'any', 'personal', 'emoluments', 'indispensably', 'included', 'permanent', 'provision', 'accordingly', 'pray', 'estimates', 'am', 'placed', 'during', 'continuance', 'limited', 'actual', 'expenditures', 'thought', 'require', 'having', 'thus', 'imparted', 'awakened', 'occasion', 'brings', 'us', 'together', 'take', 'leave', 'resorting', 'once', 'benign', 'parent', 'race', 'supplication', 'pleased', 'favor', 'deliberating', 'perfect', 'tranquillity', 'dispositions', 'deciding', 'unparalleled', 'unanimity', 'form', 'security', 'advancement', 'divine', 'blessing', 'equally', 'conspicuous', 'enlarged', 'temperate', 'consultations', 'wise', 'depend']\n",
      "Washington's Words with a Frequency of at most 4: [('was', 4), ('one', 4), ('being', 4), ('citizens', 4), ('not', 4), ('ought', 4), ('duty', 4), ('its', 4), ('people', 4), ('united', 4), ('myself', 4), ('since', 4), ('could', 3), ('hand', 3), ('but', 3), ('most', 3), ('into', 3), ('who', 3), ('nature', 3), ('all', 3), ('too', 3), ('some', 3), ('they', 3), ('such', 3), ('happiness', 3), ('these', 3), ('great', 3), ('good', 3), ('less', 3), ('those', 3), ('their', 3), ('so', 3), ('there', 3), ('are', 3), ('measures', 3), ('shall', 3), ('far', 3), ('between', 3), ('must', 3), ('house', 2), ('representatives', 2), ('event', 2), ('order', 2), ('day', 2), ('whose', 2), ('voice', 2), ('never', 2), ('love', 2), ('retreat', 2), ('immutable', 2), ('rendered', 2), ('necessary', 2), ('well', 2), ('trust', 2), ('qualifications', 2), ('administration', 2), ('peculiarly', 2), ('own', 2), ('dare', 2), ('just', 2), ('might', 2), ('former', 2), ('confidence', 2), ('fellow', 2), ('share', 2), ('impressions', 2), ('station', 2), ('first', 2), ('official', 2), ('rules', 2), ('over', 2), ('providential', 2), ('human', 2), ('liberties', 2), ('states', 2), ('themselves', 2), ('success', 2), ('private', 2), ('assure', 2), ('sentiments', 2), ('nor', 2), ('at', 2), ('nation', 2), ('system', 2), ('deliberations', 2), ('communities', 2), ('established', 2), ('without', 2), ('humble', 2), ('future', 2), ('influence', 2), ('free', 2), ('article', 2), ('executive', 2), ('department', 2), ('he', 2), ('expedient', 2), ('circumstances', 2), ('subject', 2), ('objects', 2), ('given', 2), ('particular', 2), ('them', 2), ('views', 2), ('policy', 2), ('union', 2), ('heaven', 2), ('american', 2), ('how', 2), ('opportunities', 2), ('pecuniary', 2), ('fellowcitizens', 1), ('senate', 1), ('among', 1), ('vicissitudes', 1), ('incident', 1), ('life', 1), ('filled', 1), ('greater', 1), ('anxieties', 1), ('notification', 1), ('transmitted', 1), ('received', 1), ('14th', 1), ('month', 1), ('summoned', 1), ('hear', 1), ('veneration', 1), ('had', 1), ('chosen', 1), ('fondest', 1), ('predilection', 1), ('flattering', 1), ('hopes', 1), ('decision', 1), ('asylum', 1), ('declining', 1), ('years', 1), ('dear', 1), ('addition', 1), ('habit', 1), ('inclination', 1), ('frequent', 1), ('interruptions', 1), ('health', 1), ('gradual', 1), ('waste', 1), ('committed', 1), ('time', 1), ('other', 1), ('magnitude', 1), ('difficulty', 1), ('called', 1), ('sufficient', 1), ('awaken', 1), ('wisest', 1), ('experienced', 1), ('her', 1), ('distrustful', 1), ('scrutiny', 1), ('overwhelm', 1), ('despondence', 1), ('inheriting', 1), ('inferior', 1), ('endowments', 1), ('unpracticed', 1), ('duties', 1), ('civil', 1), ('conscious', 1), ('deficiencies', 1), ('conflict', 1), ('emotions', 1), ('aver', 1), ('faithful', 1), ('study', 1), ('collect', 1), ('appreciation', 1), ('circumstance', 1), ('affected', 1), ('hope', 1), ('if', 1), ('executing', 1), ('task', 1), ('much', 1), ('swayed', 1), ('grateful', 1), ('remembrance', 1), ('instances', 1), ('affectionate', 1), ('sensibility', 1), ('transcendent', 1), ('proof', 1), ('thence', 1), ('little', 1), ('consulted', 1), ('incapacity', 1), ('disinclination', 1), ('weighty', 1), ('untried', 1), ('cares', 1), ('before', 1), ('error', 1), ('palliated', 1), ('motives', 1), ('mislead', 1), ('consequences', 1), ('judged', 1), ('partiality', 1), ('originated', 1), ('obedience', 1), ('summons', 1), ('repaired', 1), ('would', 1), ('improper', 1), ('omit', 1), ('act', 1), ('fervent', 1), ('supplications', 1), ('almighty', 1), ('universe', 1), ('presides', 1), ('councils', 1), ('nations', 1), ('aids', 1), ('supply', 1), ('defect', 1), ('benediction', 1), ('consecrate', 1), ('instituted', 1), ('essential', 1), ('purposes', 1), ('enable', 1), ('instrument', 1), ('employed', 1), ('execute', 1), ('functions', 1), ('allotted', 1), ('charge', 1), ('tendering', 1), ('homage', 1), ('author', 1), ('expresses', 1), ('large', 1), ('either', 1), ('bound', 1), ('acknowledge', 1), ('adore', 1), ('invisible', 1), ('conducts', 1), ('affairs', 1), ('men', 1), ('step', 1), ('advanced', 1), ('character', 1), ('independent', 1), ('seems', 1), ('distinguished', 1), ('token', 1), ('agency', 1), ('important', 1), ('revolution', 1), ('accomplished', 1), ('tranquil', 1), ('voluntary', 1), ('consent', 1), ('many', 1), ('distinct', 1), ('resulted', 1), ('compared', 1), ('means', 1), ('governments', 1), ('return', 1), ('pious', 1), ('gratitude', 1), ('along', 1), ('anticipation', 1), ('blessings', 1), ('past', 1), ('seem', 1), ('presage', 1), ('reflections', 1), ('arising', 1), ('out', 1), ('crisis', 1), ('forced', 1), ('strongly', 1), ('mind', 1), ('suppressed', 1), ('join', 1), ('thinking', 1), ('none', 1), ('proceedings', 1), ('new', 1), ('auspiciously', 1), ('commence', 1), ('establishing', 1), ('made', 1), ('president', 1), ('recommend', 1), ('consideration', 1), ('judge', 1), ('now', 1), ('meet', 1), ('acquit', 1), ('entering', 1), ('further', 1), ('refer', 1), ('constitutional', 1), ('charter', 1), ('assembled', 1), ('defining', 1), ('powers', 1), ('designates', 1), ('attention', 1), ('consistent', 1), ('congenial', 1), ('feelings', 1), ('actuate', 1), ('substitute', 1), ('place', 1), ('recommendation', 1), ('tribute', 1), ('due', 1), ('talents', 1), ('rectitude', 1), ('patriotism', 1), ('adorn', 1), ('characters', 1), ('selected', 1), ('devise', 1), ('adopt', 1), ('honorable', 1), ('behold', 1), ('surest', 1), ('pledges', 1), ('side', 1), ('local', 1), ('prejudices', 1), ('attachments', 1), ('separate', 1), ('party', 1), ('animosities', 1), ('misdirect', 1), ('comprehensive', 1), ('equal', 1), ('eye', 1), ('watch', 1), ('assemblage', 1), ('interests', 1), ('another', 1), ('foundation', 1), ('our', 1), ('national', 1), ('laid', 1), ('pure', 1), ('principles', 1), ('morality', 1), ('preeminence', 1), ('exemplified', 1), ('attributes', 1), ('win', 1), ('affections', 1), ('command', 1), ('respect', 1), ('world', 1), ('dwell', 1), ('prospect', 1), ('satisfaction', 1), ('ardent', 1), ('inspire', 1), ('truth', 1), ('thoroughly', 1), ('exists', 1), ('economy', 1), ('course', 1), ('indissoluble', 1), ('virtue', 1), ('advantage', 1), ('genuine', 1), ('maxims', 1), ('honest', 1), ('magnanimous', 1), ('solid', 1), ('rewards', 1), ('prosperity', 1), ('felicity', 1), ('we', 1), ('persuaded', 1), ('propitious', 1), ('smiles', 1), ('expected', 1), ('disregards', 1), ('eternal', 1), ('right', 1), ('itself', 1), ('ordained', 1), ('preservation', 1), ('sacred', 1), ('fire', 1), ('liberty', 1), ('destiny', 1), ('republican', 1), ('model', 1), ('justly', 1), ('considered', 1), ('perhaps', 1), ('deeply', 1), ('finally', 1), ('staked', 1), ('experiment', 1), ('entrusted', 1), ('hands', 1), ('besides', 1), ('ordinary', 1), ('submitted', 1), ('care', 1), ('remain', 1), ('judgment', 1), ('decide', 1), ('exercise', 1), ('occasional', 1), ('power', 1), ('delegated', 1), ('fifth', 1), ('constitution', 1), ('juncture', 1), ('objections', 1), ('urged', 1), ('against', 1), ('degree', 1), ('inquietude', 1), ('birth', 1), ('instead', 1), ('undertaking', 1), ('recommendations', 1), ('guided', 1), ('lights', 1), ('derived', 1), ('again', 1), ('give', 1), ('way', 1), ('entire', 1), ('discernment', 1), ('pursuit', 1), ('whilst', 1), ('carefully', 1), ('avoid', 1), ('alteration', 1), ('endanger', 1), ('benefits', 1), ('effective', 1), ('await', 1), ('lessons', 1), ('experience', 1), ('reverence', 1), ('characteristic', 1), ('rights', 1), ('freemen', 1), ('regard', 1), ('harmony', 1), ('sufficiently', 1), ('question', 1), ('impregnably', 1), ('fortified', 1), ('latter', 1), ('safely', 1), ('advantageously', 1), ('promoted', 1), ('foregoing', 1), ('observations', 1), ('add', 1), ('properly', 1), ('addressed', 1), ('concerns', 1), ('therefore', 1), ('brief', 1), ('possible', 1), ('when', 1), ('honored', 1), ('call', 1), ('service', 1), ('then', 1), ('eve', 1), ('arduous', 1), ('struggle', 1), ('light', 1), ('contemplated', 1), ('required', 1), ('should', 1), ('renounce', 1), ('compensation', 1), ('resolution', 1), ('instance', 1), ('departed', 1), ('still', 1), ('produced', 1), ('decline', 1), ('inapplicable', 1), ('any', 1), ('personal', 1), ('emoluments', 1), ('indispensably', 1), ('included', 1), ('permanent', 1), ('provision', 1), ('accordingly', 1), ('pray', 1), ('estimates', 1), ('am', 1), ('placed', 1), ('during', 1), ('continuance', 1), ('limited', 1), ('actual', 1), ('expenditures', 1), ('thought', 1), ('require', 1), ('having', 1), ('thus', 1), ('imparted', 1), ('awakened', 1), ('occasion', 1), ('brings', 1), ('us', 1), ('together', 1), ('take', 1), ('leave', 1), ('resorting', 1), ('once', 1), ('benign', 1), ('parent', 1), ('race', 1), ('supplication', 1), ('pleased', 1), ('favor', 1), ('deliberating', 1), ('perfect', 1), ('tranquillity', 1), ('dispositions', 1), ('deciding', 1), ('unparalleled', 1), ('unanimity', 1), ('form', 1), ('security', 1), ('advancement', 1), ('divine', 1), ('blessing', 1), ('equally', 1), ('conspicuous', 1), ('enlarged', 1), ('temperate', 1), ('consultations', 1), ('wise', 1), ('depend', 1)]\n"
     ]
    }
   ],
   "source": [
    "bush_hapax, bush_4,bush_len = leastFreq(\"Bush\",bush_words)\n",
    "obama_hapax, obama_4, obama_len= leastFreq(\"Obama\",obama_words)\n",
    "trump_hapax, trump_4 ,trump_len= leastFreq(\"Trump\",trump_words)\n",
    "wash_hapax, wash_4, wash_len = leastFreq(\"Washington\",wash_words)\n",
    "\n",
    "print(\"Bush's Hapax Legomena:\",bush_hapax)\n",
    "print(\"Bush's Words with a Frequency of at most 4:\",bush_4);print()\n",
    "print(\"Obama's Hapax Legomena:\",obama_hapax)\n",
    "print(\"Obama's Words with a Frequency of at most 4:\",obama_4);print()\n",
    "print(\"Trump's Hapax Legomena:\",trump_hapax)\n",
    "print(\"Trump's Words with a Frequency of at most 4:\",trump_4);print()\n",
    "print(\"Washington's Hapax Legomena:\",wash_hapax)\n",
    "print(\"Washington's Words with a Frequency of at most 4:\",wash_4)"
   ]
  },
  {
   "cell_type": "code",
   "execution_count": 335,
   "metadata": {},
   "outputs": [
    {
     "name": "stdout",
     "output_type": "stream",
     "text": [
      "bush_percentage_hapax: 0.247 \tAt most 4: 0.474\n",
      "obama_percentage_hapax: 0.263 \tAt most 4: 0.46\n",
      "trump_percentage_hapax: 0.258 \tAt most 4: 0.459\n",
      "washington_percentage_hapax: 0.31 \tAt most 4: 0.501\n"
     ]
    }
   ],
   "source": [
    "print(\"bush_percentage_hapax:\",round(len(bush_hapax)/len(bush_words),3),\"\\tAt most 4:\",round(bush_len/len(bush_words),3))\n",
    "print(\"obama_percentage_hapax:\",round(len(obama_hapax)/len(obama_words),3),\"\\tAt most 4:\",round(obama_len/len(obama_words),3))\n",
    "print(\"trump_percentage_hapax:\",round(len(trump_hapax)/len(trump_words),3),\"\\tAt most 4:\",round(trump_len/len(trump_words),3))\n",
    "print(\"washington_percentage_hapax:\",round(len(wash_hapax)/len(wash_words),3),\"\\tAt most 4:\",round(wash_len/len(wash_words),3))"
   ]
  },
  {
   "cell_type": "markdown",
   "metadata": {},
   "source": [
    "#### f2) What are the least frequent words in each president’s speech? Find both hapax legomena words (i.e., words of frequency 1) and words with a frequency of at most 4. What is the coverage (i.e., percentage) of each such class of words for each speech? How do these lists compare from across the considered speeches? What do you notice?\n",
    "The coverage of each such class of words for each speech are listed above. Bush's has lowest percentage of hapaxm and Washington has the highest. And Wahsington also has the highest coverage of words that have frequency at most 4. Moreoever, words that occurs at more 4 times cover nearly half the speech for all speeches. "
   ]
  },
  {
   "cell_type": "markdown",
   "metadata": {},
   "source": [
    "## g) Frequent Words Found in One Speech Only:\n",
    "What are the frequent words that are only found in one speech? E.g., what are the\n",
    "frequent words in Washington's speech that do not occur in Obama's or Bush’s or\n",
    "Trump’s at all? Identify the top 10 words in each case, followed by their count\n",
    "separated by a tab."
   ]
  },
  {
   "cell_type": "code",
   "execution_count": 272,
   "metadata": {},
   "outputs": [],
   "source": [
    "def freqWord(words):\n",
    "    word_freqf = list(Counter(words).most_common())\n",
    "    freq_word = set([k[0] for k in word_freqf])\n",
    "    #print(len(word_freqf),len(freq_word))\n",
    "    \n",
    "    return (word_freqf, freq_word)"
   ]
  },
  {
   "cell_type": "code",
   "execution_count": 336,
   "metadata": {},
   "outputs": [],
   "source": [
    "wfb, bu_freq = freqWord(bush_wordf)\n",
    "wfo, ob_freq = freqWord(obama_wordf)\n",
    "wft, tr_freq = freqWord(trump_wordf)\n",
    "wfw, wa_freq = freqWord(wash_wordf)\n",
    "wa_diff = wa_freq - bu_freq - ob_freq - tr_freq\n",
    "bu_diff = ((bu_freq - ob_freq))- wa_freq - tr_freq\n",
    "ob_diff = (ob_freq - bu_freq) - wa_freq - tr_freq\n",
    "tr_diff = (tr_freq - bu_freq) - ob_freq - wa_freq\n",
    "\n",
    "#print(\"washington's # of uniq words:\",len(wa_diff))\n",
    "#print(\"Trump's # of uniq words:\",len(tr_diff))\n",
    "#print(\"Obama's # of uniq words:\",len(ob_diff))\n",
    "#print(\"Bush's # of uniq words:\",len(bu_diff))"
   ]
  },
  {
   "cell_type": "code",
   "execution_count": 337,
   "metadata": {},
   "outputs": [],
   "source": [
    "def TopTen(who,freq,diff):\n",
    "    print('==={}==='.format(who))\n",
    "    top10 = list()\n",
    "    i = 0\n",
    "    for k in freq:\n",
    "        #print(k[1])\n",
    "        if k[0] in diff and i <= 10:\n",
    "            print('{}:\\t{}'.format(k[0],k[1]))\n",
    "            #print(k[0],\":\\t\",k[1])\n",
    "            i = i+1"
   ]
  },
  {
   "cell_type": "code",
   "execution_count": 338,
   "metadata": {},
   "outputs": [
    {
     "name": "stdout",
     "output_type": "stream",
     "text": [
      "===Bush===\n",
      "story:\t8\n",
      "sometimes:\t4\n",
      "beyond:\t4\n",
      "civility:\t4\n",
      "best:\t4\n",
      "affirm:\t3\n",
      "deep:\t3\n",
      "commitment:\t3\n",
      "compassion:\t3\n",
      "times:\t3\n",
      "society:\t2\n",
      "===Obama===\n",
      "carried:\t3\n",
      "hard:\t3\n",
      "say:\t3\n",
      "journey:\t3\n",
      "force:\t3\n",
      "man:\t3\n",
      "father:\t3\n",
      "cooperation:\t2\n",
      "taken:\t2\n",
      "waters:\t2\n",
      "often:\t2\n",
      "===Trump===\n",
      "protected:\t5\n",
      "dreams:\t5\n",
      "obama:\t3\n",
      "left:\t3\n",
      "millions:\t3\n",
      "weve:\t3\n",
      "foreign:\t3\n",
      "countries:\t3\n",
      "get:\t2\n",
      "transferring:\t2\n",
      "washington:\t2\n",
      "===Washington===\n",
      "ought:\t4\n",
      "nature:\t3\n",
      "measures:\t3\n",
      "house:\t2\n",
      "representatives:\t2\n",
      "event:\t2\n",
      "retreat:\t2\n",
      "immutable:\t2\n",
      "rendered:\t2\n",
      "qualifications:\t2\n",
      "peculiarly:\t2\n"
     ]
    }
   ],
   "source": [
    "TopTen(\"Bush\",wfb,bu_diff)\n",
    "TopTen(\"Obama\",wfo,ob_diff)\n",
    "TopTen(\"Trump\",wft,tr_diff)\n",
    "TopTen(\"Washington\",wfw,wa_diff)"
   ]
  },
  {
   "cell_type": "markdown",
   "metadata": {},
   "source": [
    "## h) Top 20 Favored Words by Each President:"
   ]
  },
  {
   "cell_type": "code",
   "execution_count": 339,
   "metadata": {},
   "outputs": [],
   "source": [
    "def favor(who,word_freqf,all_comm):\n",
    "    top20 = list()\n",
    "    i = 0\n",
    "    for k in word_freqf:\n",
    "        if k[0] in all_comm and i <= 20:\n",
    "            top20.append(k)\n",
    "            i = i+1\n",
    "    print('{}\\'s top 20 Favored Words:{}'.format(who,top20))\n",
    "    print()"
   ]
  },
  {
   "cell_type": "code",
   "execution_count": 340,
   "metadata": {},
   "outputs": [
    {
     "name": "stdout",
     "output_type": "stream",
     "text": [
      "Bush's top 20 Favored Words:[('us', 11), ('country', 9), ('nation', 8), ('citizens', 7), ('must', 6), ('every', 6), ('president', 5), ('new', 5), ('many', 5), ('nations', 5), ('never', 5), ('power', 4), ('american', 4), ('time', 4), ('government', 4), ('world', 3), ('birth', 3), ('good', 3), ('great', 3), ('life', 3), ('united', 2)]\n",
      "\n",
      "Obama's top 20 Favored Words:[('us', 23), ('nation', 12), ('new', 11), ('every', 8), ('must', 8), ('people', 7), ('time', 6), ('world', 6), ('day', 5), ('power', 4), ('many', 3), ('life', 3), ('government', 3), ('future', 3), ('nations', 3), ('free', 2), ('never', 2), ('one', 2), ('birth', 2), ('country', 2), ('good', 2)]\n",
      "\n",
      "Trump's top 20 Favored Words:[('american', 12), ('people', 9), ('country', 9), ('one', 8), ('every', 7), ('world', 6), ('great', 6), ('nation', 6), ('never', 6), ('new', 6), ('president', 5), ('nations', 5), ('citizens', 4), ('together', 4), ('power', 4), ('government', 3), ('day', 3), ('united', 3), ('many', 3), ('must', 3), ('years', 2)]\n",
      "\n",
      "Washington's top 20 Favored Words:[('every', 9), ('government', 8), ('country', 5), ('one', 4), ('citizens', 4), ('people', 4), ('united', 4), ('great', 3), ('good', 3), ('must', 3), ('day', 2), ('never', 2), ('fellow', 2), ('nation', 2), ('future', 2), ('free', 2), ('american', 2), ('life', 1), ('years', 1), ('time', 1), ('much', 1)]\n",
      "\n"
     ]
    }
   ],
   "source": [
    "all_comm = wa_freq & bu_freq & ob_freq & tr_freq\n",
    "favor(\"Bush\",wfb,all_comm)\n",
    "favor(\"Obama\",wfo,all_comm)\n",
    "favor(\"Trump\",wft,all_comm)\n",
    "favor(\"Washington\",wfw,all_comm)"
   ]
  },
  {
   "cell_type": "markdown",
   "metadata": {},
   "source": [
    "#### g)  Of those words used by all (see above), which were used by one president much more than by the other three? Any observations you can make?<br>\n",
    "They use \"country\", \"nation\", \"people\", \"citizer\", \"american\" often in their speech and likely to be their favorite. One of the highest frequency words used by all but especially for Obama is \"us\". Bush's favorite word is also \"us\", but it doesn't appear that often compare to Obama. Trump's favorite word is american, and Washingtons' is \"every\". \n"
   ]
  },
  {
   "cell_type": "markdown",
   "metadata": {},
   "source": [
    "# Problem2 - Part2"
   ]
  },
  {
   "cell_type": "markdown",
   "metadata": {},
   "source": [
    "## Stylometry Indeces"
   ]
  },
  {
   "cell_type": "code",
   "execution_count": 342,
   "metadata": {},
   "outputs": [],
   "source": [
    "#=== MATTR ===#\n",
    "\n",
    "from math import floor\n",
    "def MATTR(doc):\n",
    "    N = len(doc)\n",
    "    L = 100\n",
    "    #print(N,L)\n",
    "    windows = [tuple(doc[i:i+L]) for i in range(N-(L-1))]\n",
    "    #print(windows[0:5])\n",
    "    V = [len(set(i)) for i in windows]\n",
    "    mattr = sum(V)/(L*(N-L+1))\n",
    "    return mattr"
   ]
  },
  {
   "cell_type": "code",
   "execution_count": 343,
   "metadata": {},
   "outputs": [],
   "source": [
    "def Rank(freq):\n",
    "    prev = freq[0]\n",
    "    rank = list()\n",
    "    leng = 1\n",
    "    r=0\n",
    "    r1 = 0\n",
    "    for k in range(1,len(freq)):\n",
    "        curr = freq[k]\n",
    "        if prev != curr:\n",
    "            if leng != 1:\n",
    "                sum1 = 0\n",
    "                for i in range(1,leng+1):\n",
    "                    sum1 = sum1 + r + i\n",
    "                for i in range(0,leng):\n",
    "                    rank.append((sum1/leng,prev))\n",
    "                r = r+leng\n",
    "            else: \n",
    "                r1 = r1+1\n",
    "                r = r+1\n",
    "                rank.append((r,prev))\n",
    "            prev = curr\n",
    "            leng = 1\n",
    "        elif prev == curr:\n",
    "            r1 = r1+1\n",
    "            leng += 1\n",
    "    if leng != 1:\n",
    "        sum1= 0\n",
    "        for i in range(1,leng+1):\n",
    "            sum1 = sum1 + r + i      \n",
    "        for i in range(0,leng):\n",
    "            rank.append((sum1/leng,prev))   \n",
    "    \n",
    "    rank_AvgRank = list()\n",
    "    for i in range(1,len(rank)+1):\n",
    "        rank_AvgRank.append((i,rank[i-1]))\n",
    "    return rank_AvgRank      "
   ]
  },
  {
   "cell_type": "code",
   "execution_count": 370,
   "metadata": {},
   "outputs": [],
   "source": [
    "#=== STC ===#\n",
    "# THIS STC counts the words that are not stop words and are adjective, noun or verbs. #\n",
    "from collections import Counter\n",
    "from nltk.corpus import stopwords\n",
    "stop_words = set(stopwords.words('english'))\n",
    "#stop_words = open(\"meta_stopwords\")\n",
    "#stop_words = stop_words.read().lower().split()\n",
    "\n",
    "def STC(doc):\n",
    "    \n",
    "    \n",
    "    doc_freq = list(Counter(doc).most_common())    \n",
    "    freq_num = [k[1] for k in doc_freq]\n",
    "    \n",
    "    r = Rank(freq_num)\n",
    "    doc_pos = pos_tag([j[0] for j in doc_freq])\n",
    "    #print(doc_pos)\n",
    "    used = list()\n",
    "    \n",
    "    wf_pair = [ (w,f[1]) for w,f in zip(doc_pos, r)]\n",
    "    #print(wf_pair[0:10])\n",
    "    for i in range(0,len(r)):\n",
    "        #print(r[i][0],r[i][1][0],r[i][1][1]);\n",
    "        if r[i][0] < r[i][1][1]: continue\n",
    "        if r[i][0] == r[i][1][1]: \n",
    "            h = r[i][0]\n",
    "            break\n",
    "        else:\n",
    "            nume = r[i][1][0]*r[i+1][0] - r[i+1][1][0]*r[i][0]\n",
    "            deno = r[i+1][0] - r[i][0] + r[i][1][0] - r[i+1][1][0]\n",
    "            h = nume/deno\n",
    "            break\n",
    "    #print(h)\n",
    "    stc = 0 \n",
    "    #print(wf_pair[0][0][1])\n",
    "    for r in range(0,len(wf_pair)):\n",
    "        #print(r)\n",
    "        if wf_pair[r][1][0] <= (2*h):\n",
    "            if \"VB\" in wf_pair[r][0][1] or \"NN\" in wf_pair[r][0][1] or \"JJ\" in wf_pair[r][0][1]:\n",
    "                if wf_pair[r][0][0] not in stop_words: \n",
    "                    used.append(wf_pair[r][0])\n",
    "                    nume1 = (2*h- wf_pair[r][1][0]) * wf_pair[r][1][1]\n",
    "                    deno1 = h*(2*h-1) * wf_pair[0][1][1]\n",
    "                    stc = stc + (nume1/deno1)\n",
    "        elif wf_pair[r][1][0] > (2*h): break\n",
    "    #print(used)\n",
    "    return stc    "
   ]
  },
  {
   "cell_type": "code",
   "execution_count": 355,
   "metadata": {},
   "outputs": [],
   "source": [
    "#=== Q ===#\n",
    "from nltk import pos_tag\n",
    "#nltk.download('averaged_perceptron_tagger')\n",
    "def Q(doc):\n",
    "    pos = pos_tag(doc)\n",
    "    V = 0\n",
    "    A = 0\n",
    "    jj = list()\n",
    "    vb = list()\n",
    "    for i in pos:\n",
    "        if \"JJ\" in i[1]: \n",
    "            if i[1] not in jj: jj.append(i[1])\n",
    "            A = A + 1\n",
    "        elif \"VB\" in i[1]:  \n",
    "            if i[1] not in vb: vb.append(i[1])\n",
    "            V = V + 1 \n",
    "    q = V/(V+A)\n",
    "    #print(V,A)\n",
    "    #print(vb,jj)\n",
    "    return q\n",
    "    \n",
    "    "
   ]
  },
  {
   "cell_type": "code",
   "execution_count": 356,
   "metadata": {},
   "outputs": [],
   "source": [
    "def StyIndeces(who,words):\n",
    "    mattr = round(MATTR(words),2)\n",
    "    stc = round(STC(words),4)\n",
    "    q = round(Q(words),2)\n",
    "    print('{}\\'s MATTR:{}, Q:{}, STC:{}'.format(who,mattr,q,stc))"
   ]
  },
  {
   "cell_type": "code",
   "execution_count": 371,
   "metadata": {
    "scrolled": true
   },
   "outputs": [
    {
     "name": "stdout",
     "output_type": "stream",
     "text": [
      "[('american', 'JJ'), ('people', 'NNS'), ('country', 'NN')]\n",
      "Trump's MATTR:0.67, Q:0.66, STC:0.0082\n",
      "[('nation', 'NN'), ('new', 'JJ')]\n",
      "Obama's MATTR:0.71, Q:0.72, STC:0.0022\n",
      "[('country', 'NN'), ('nation', 'NN'), ('story', 'NN'), ('america', 'NN'), ('citizens', 'NNS')]\n",
      "Bush's MATTR:0.69, Q:0.68, STC:0.0058\n",
      "[('government', 'NN')]\n",
      "Washington's MATTR:0.72, Q:0.62, STC:0.0003\n"
     ]
    }
   ],
   "source": [
    "StyIndeces(\"Trump\",trump_words)\n",
    "StyIndeces(\"Obama\",obama_words)\n",
    "StyIndeces(\"Bush\",bush_words)\n",
    "StyIndeces(\"Washington\",wash_words)\n",
    "\n",
    "\n",
    "#StyIndeces(\"tt\",tt_words)"
   ]
  },
  {
   "cell_type": "markdown",
   "metadata": {},
   "source": [
    "### a) How do the values of MATTR, STC, and Q obtained for Pres. Trump compare with the ones for the other presidents in Figure 1 in the paper? What do these values show?"
   ]
  },
  {
   "cell_type": "markdown",
   "metadata": {},
   "source": [
    "A: <br>\n",
    "Firslty, compare the values fo MATTR, STC, and Q obtained for those four presidents. The ouput MATTR is around minus 1~2% of the data given in the paper. The output Q is around plus 10% of the data given in the paper. And STC is around 1 to 5 times smaller than the data given in the paper. <br>\n",
    "The reason might be that we used a higher L for MATTR, which is about 10% of word length. Yet, in the paper, the author is likely to use L around 85%. <br>\n",
    "Based on the STC fomula given, the founction used only the words that are not stop words and are adjective, noun or verbs.<br>\n",
    "However, even though the data is different, it does not affect their ranking in each case. That is, Washington has lowest Q and STC among them. Obama has a higher MATTR than Bush and so on. To be fair for the comparision, Trump has the lowest Q but highest STC compare to the other 3 presidents. Yet, there is still no chronologically ranked values of MATTR, Q, and STC of the US presidential inaugural addresses."
   ]
  },
  {
   "cell_type": "markdown",
   "metadata": {},
   "source": [
    "### b)  Look at Table 2 showing the results for the political affiliation (republican vs.democrat). How do the values for the three metrics obtained for Pres. Trump compare with those of republicans? How about democrats? What does this comparison say (e.g., Is Pres. Trump more a republican or a democrat in his speech)?\n"
   ]
  },
  {
   "cell_type": "markdown",
   "metadata": {},
   "source": [
    "If the MATTR obtain above plus 1-2%, it has almost the same score compare with those of repulicans and democrats. If the Q obtained above minus 10%, it also has almost the same score compare with those of replicans and democrats. If the STC is 1-5 times higher, it will be higher than both the replican and democrat. Thus, Pres. Trump is more a democrat in his speech. "
   ]
  },
  {
   "cell_type": "markdown",
   "metadata": {},
   "source": [
    "### c)  Look at Figures 2 and 3 showing the relation between MATTR and Q, and MATTR and STC, respectively. Where does Pres. Trump’s speech place in these figures? What does it mean (i.e., what do these numbers tell about him/his speech)? <br>\n"
   ]
  },
  {
   "cell_type": "markdown",
   "metadata": {},
   "source": [
    "Similary to the values in B), if those values are changed to match the gap between obtain data and data from the paper, Pres. Trumps' speech will be place in the most concentrated area. It means that Trump's speech has smiliar quality with other presidents. And there is no clear correspondant between MATTR, STC, Q and the speaker's party."
   ]
  },
  {
   "cell_type": "markdown",
   "metadata": {},
   "source": [
    "### d) Calculate and show the thematic words used by Pres. Trump in his inaugural address and analyze them. What do they show/indicate? What thematic topics of discussion do they capture? How do they map to the 4 themes identified by Liu (2012) at the end of Section 4?"
   ]
  },
  {
   "cell_type": "code",
   "execution_count": 373,
   "metadata": {},
   "outputs": [
    {
     "name": "stdout",
     "output_type": "stream",
     "text": [
      "[('american', 12), ('people', 9), ('country', 9), ('one', 8), ('every', 7), ('world', 6), ('great', 6), ('nation', 6), ('never', 6), ('new', 6), ('president', 5), ('nations', 5), ('citizens', 4), ('together', 4), ('power', 4), ('government', 3), ('day', 3), ('united', 3), ('many', 3), ('must', 3), ('years', 2), ('good', 2), ('way', 2), ('life', 2), ('us', 2), ('time', 2)]\n"
     ]
    }
   ],
   "source": [
    "TW = list()\n",
    "for i in wft:\n",
    "    if i[0] in all_comm and i[1] >=2:\n",
    "        TW.append((i))\n",
    "print(TW)\n"
   ]
  },
  {
   "cell_type": "markdown",
   "metadata": {},
   "source": [
    "The thematic Words used by Pres. Trump is obtained by getting words in Trump's speech which is also used by all other presidents and has a frequency higher than 2. The word \"great\" appears often in Trump's speech that seems to related to his pledge \"make america great again\". By mentioning \"american\", \"people\", \"citizes\", \"nations\" at lot, can be an indicator that Trump was arousing patriotism in citizens. He did mention government, united, but would not be clear that the speech announced plitical principles to guide the neww administration. Without seeing the word \"God\", it's even more unclear that the speech had resorting to religious power based on the thematic words. "
   ]
  }
 ],
 "metadata": {
  "kernelspec": {
   "display_name": "Python 3",
   "language": "python",
   "name": "python3"
  },
  "language_info": {
   "codemirror_mode": {
    "name": "ipython",
    "version": 3
   },
   "file_extension": ".py",
   "mimetype": "text/x-python",
   "name": "python",
   "nbconvert_exporter": "python",
   "pygments_lexer": "ipython3",
   "version": "3.7.0"
  }
 },
 "nbformat": 4,
 "nbformat_minor": 2
}
